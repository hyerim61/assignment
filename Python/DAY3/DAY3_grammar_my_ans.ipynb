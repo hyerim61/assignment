{
  "cells": [
    {
      "cell_type": "markdown",
      "metadata": {
        "id": "fG8K8fUTBsIJ"
      },
      "source": [
        "<span style=\"font-size:100%\">\n",
        "\n",
        "수업은 모두 열심히 들으셨나요?\n",
        "\n",
        "간혹 강의에서 언급되지 않은 내용이 문제로 나올 수 있습니다.<br>\n",
        "그럴땐 강의 내용 외 문제는 구글링을 통해 해결해주세요<br></span>\n",
        "<span style=\"font-size:80%\">\n",
        "(구글링 또한 개발자가 갖쳐야할 역량 중에 하나랍니다 😊)\n",
        "</span>\n",
        "\n",
        "---"
      ]
    },
    {
      "cell_type": "markdown",
      "metadata": {
        "id": "Hwq4hTTPBsIL"
      },
      "source": [
        "### Chapter09 : `Python의 입력과 출력 방식에 대해 알아보고 문제를 해결해보자`"
      ]
    },
    {
      "cell_type": "markdown",
      "metadata": {
        "id": "KMW8nG2LBsIL"
      },
      "source": [
        "<span style=\"font-size:80%\">[문제1]<br><br></span>\n",
        "아래 코드의 실행 결과로 올바른 것을 골라주세요<br>\n",
        "\n",
        "print(' * ', ' * ', ' * ', ' * ', ' * ', ' * ', sep='x')\n",
        "\n",
        "```\n",
        "1. x*x*x*x*x*x*\n",
        "2. ******\n",
        "3. ***x***\n",
        "4. *x*x*x*x*x*\n",
        "```"
      ]
    },
    {
      "cell_type": "markdown",
      "metadata": {
        "id": "49hs1cxBBsIL"
      },
      "source": [
        "<span style=\"color:red\">답변</span>"
      ]
    },
    {
      "cell_type": "markdown",
      "metadata": {
        "id": "l8a2QsrkBsIM"
      },
      "source": [
        "4"
      ]
    },
    {
      "cell_type": "markdown",
      "metadata": {
        "id": "wawNFI7jBsIM"
      },
      "source": [
        "----"
      ]
    },
    {
      "cell_type": "markdown",
      "metadata": {
        "id": "JelNQuv2BsIM"
      },
      "source": [
        "<span style=\"font-size:80%\">[문제2]<br><br></span>\n",
        "두 개의 값을 입력 받아 실수로 x와 y 변수에 저장하는 코드를 골라 주세요\n",
        "\n",
        "\n",
        "1. x, y = input('실수를 입력하세요: ')\n",
        "2. x, y = input('실수를 입력하세요: ').split()\n",
        "3. x = input('실수를 입력하세요'); y = input('실수를 입력하세요')\n",
        "4. x, y = map(float, input('실수를 입력하세요: ').split())"
      ]
    },
    {
      "cell_type": "markdown",
      "metadata": {
        "id": "k9Ugir99BsIM"
      },
      "source": [
        "<span style=\"color:red\">답변</span>"
      ]
    },
    {
      "cell_type": "markdown",
      "metadata": {
        "id": "WY6Z3uu6BsIM"
      },
      "source": [
        "4"
      ]
    },
    {
      "cell_type": "markdown",
      "metadata": {
        "id": "3daV4xBLBsIM"
      },
      "source": [
        "----"
      ]
    },
    {
      "cell_type": "markdown",
      "metadata": {
        "id": "8SCLqNuFBsIM"
      },
      "source": [
        "<span style=\"font-size:80%\">[문제3]<br><br></span>\n",
        "\n",
        "아래와 같이 주어졌을때 실행 결과와 동일하게 출력되기 위해 1)과 2) 들어갈 코드를 작성해주세요\n",
        "\n",
        "```\n",
        "month = 12\n",
        "day = 25\n",
        "hour = 12\n",
        "minute = 30\n",
        "\n",
        "print(month, day, 1)________)\n",
        "print(hour, minute, 2)_______)\n",
        "\n",
        "```\n",
        "\n",
        "실행 결과 : 1) 12.25,   2) 12:30"
      ]
    },
    {
      "cell_type": "code",
      "source": [
        "month = 12\n",
        "day = 25\n",
        "hour = 12\n",
        "minute = 30\n",
        "\n",
        "print(month, day, sep='.')"
      ],
      "metadata": {
        "id": "3BRgms5AKZZX",
        "outputId": "c81ba494-bf70-4b54-b38f-67bc9fdaf838",
        "colab": {
          "base_uri": "https://localhost:8080/"
        }
      },
      "execution_count": 2,
      "outputs": [
        {
          "output_type": "stream",
          "name": "stdout",
          "text": [
            "12.25\n"
          ]
        }
      ]
    },
    {
      "cell_type": "code",
      "source": [
        "month = 12\n",
        "day = 25\n",
        "hour = 12\n",
        "minute = 30\n",
        "\n",
        "print(month, day, sep='.', end=' ')"
      ],
      "metadata": {
        "id": "e6itlWJiKhNi",
        "outputId": "0c43afea-88e7-4cb6-e0e3-fab5b668d3f0",
        "colab": {
          "base_uri": "https://localhost:8080/"
        }
      },
      "execution_count": 8,
      "outputs": [
        {
          "output_type": "stream",
          "name": "stdout",
          "text": [
            "12.25 "
          ]
        }
      ]
    },
    {
      "cell_type": "code",
      "source": [
        "month = 12\n",
        "day = 25\n",
        "hour = 12\n",
        "minute = 30\n",
        "\n",
        "print(hour, minute, sep=':')"
      ],
      "metadata": {
        "id": "bOannI-eLTHa",
        "outputId": "2971ca9a-729b-4ec1-f9df-1d97a6cd11d5",
        "colab": {
          "base_uri": "https://localhost:8080/"
        }
      },
      "execution_count": 9,
      "outputs": [
        {
          "output_type": "stream",
          "name": "stdout",
          "text": [
            "12:30\n"
          ]
        }
      ]
    },
    {
      "cell_type": "markdown",
      "metadata": {
        "id": "yQDg_h1aBsIM"
      },
      "source": [
        "<span style=\"color:red\">답변</span>"
      ]
    },
    {
      "cell_type": "markdown",
      "metadata": {
        "id": "Cz3Z6qw_BsIM"
      },
      "source": [
        "1 : sep='.', end=' ‘ , 2 : sep=':’"
      ]
    },
    {
      "cell_type": "markdown",
      "metadata": {
        "id": "WKB5CLmhBsIM"
      },
      "source": [
        "----"
      ]
    },
    {
      "cell_type": "markdown",
      "metadata": {
        "id": "0eE-OKzqBsIN"
      },
      "source": [
        "### Chapter10 : `Python의 시퀀스 자료형 중 하나인 list에 대해 알아보고 문제를 해결해보자`"
      ]
    },
    {
      "cell_type": "markdown",
      "metadata": {
        "id": "yrZNAcgRBsIN"
      },
      "source": [
        "<span style=\"font-size:80%\">[문제1]<br><br></span>\n",
        "아래 리스트에 들어있는 값의 평균을 구하는 코드를 작성해주세요\n",
        "\n",
        "x = [34, 22, 10, 3, 55, 66]"
      ]
    },
    {
      "cell_type": "code",
      "source": [
        "x = [34, 22, 10, 3, 55, 66]\n",
        "\n",
        "average = sum(x) / len(x)\n",
        "print(\"평균: \", average)"
      ],
      "metadata": {
        "id": "yBIuzT9pMmBi",
        "outputId": "66f774c1-37f5-465b-b80b-56d4624584bd",
        "colab": {
          "base_uri": "https://localhost:8080/"
        }
      },
      "execution_count": 12,
      "outputs": [
        {
          "output_type": "stream",
          "name": "stdout",
          "text": [
            "평균:  31.666666666666668\n"
          ]
        }
      ]
    },
    {
      "cell_type": "markdown",
      "metadata": {
        "id": "MvkXCTqyBsIN"
      },
      "source": [
        "<span style=\"color:red\">답변</span>"
      ]
    },
    {
      "cell_type": "markdown",
      "metadata": {
        "id": "f4Q6EJWdBsIN"
      },
      "source": [
        "x = [34, 22, 10, 3, 55, 66]\n",
        "\n",
        "average = sum(x) / len(x)\n",
        "\n",
        "print(\"평균: \", average)"
      ]
    },
    {
      "cell_type": "markdown",
      "metadata": {
        "id": "OFapgNTQBsIN"
      },
      "source": [
        "----"
      ]
    },
    {
      "cell_type": "markdown",
      "metadata": {
        "id": "VmHpQo0ABsIN"
      },
      "source": [
        "<span style=\"font-size:80%\">[문제2]<br><br></span>\n",
        "리스트 안에 있는 데이터를 오름차순으로 정렬하는 메소드를 모두 골라주세요\n",
        "\n",
        "1. upper()\n",
        "2. low()\n",
        "3. sort()\n",
        "4. hight()\n",
        "5. sorted()"
      ]
    },
    {
      "cell_type": "markdown",
      "metadata": {
        "id": "Pud_FykhBsIN"
      },
      "source": [
        "<span style=\"color:red\">답변</span>"
      ]
    },
    {
      "cell_type": "markdown",
      "metadata": {
        "id": "7CRbIx2YBsIN"
      },
      "source": [
        "3, 5"
      ]
    },
    {
      "cell_type": "markdown",
      "metadata": {
        "id": "vcJIO0KYBsIN"
      },
      "source": [
        "----"
      ]
    },
    {
      "cell_type": "markdown",
      "metadata": {
        "id": "tZwufMCqBsIN"
      },
      "source": [
        "<span style=\"font-size:80%\">[문제3]<br><br></span>\n",
        "리스트 x가 있을 때 x.append(7)과 결과가 동일한 것을 모두 골라주세요\n",
        "\n",
        "\n",
        "1. x[-1:] = [7]\n",
        "2. x.insert(len(x), 7)\n",
        "3. x[0:] = 7\n",
        "4. x[len(x):] = 7\n",
        "5. x[len(x):] = [7]"
      ]
    },
    {
      "cell_type": "markdown",
      "metadata": {
        "id": "MY2VcB1tBsIN"
      },
      "source": [
        "<span style=\"color:red\">답변</span>"
      ]
    },
    {
      "cell_type": "markdown",
      "metadata": {
        "id": "bBjs2IB-BsIN"
      },
      "source": [
        "2,5"
      ]
    },
    {
      "cell_type": "markdown",
      "metadata": {
        "id": "kaHxMISDBsIO"
      },
      "source": [
        "----"
      ]
    },
    {
      "cell_type": "markdown",
      "metadata": {
        "id": "ko1PEoJaBsIO"
      },
      "source": [
        "<span style=\"font-size:80%\">[문제4]<br><br></span>\n",
        "리스트의 모든 요소를 삭제하는 메서드를 골라주세요\n",
        "\n",
        "1. remove\n",
        "2. clean\n",
        "3. pop\n",
        "4. clear\n",
        "5. reverse"
      ]
    },
    {
      "cell_type": "markdown",
      "metadata": {
        "id": "rDniiwlpBsIO"
      },
      "source": [
        "<span style=\"color:red\">답변</span>"
      ]
    },
    {
      "cell_type": "markdown",
      "metadata": {
        "id": "80VjfKFpBsIO"
      },
      "source": [
        "4"
      ]
    },
    {
      "cell_type": "markdown",
      "metadata": {
        "id": "qhyjJZnLBsIO"
      },
      "source": [
        "----"
      ]
    },
    {
      "cell_type": "markdown",
      "metadata": {
        "id": "W0vhh7C-BsIO"
      },
      "source": [
        "<span style=\"font-size:80%\">[문제5]<br><br></span>\n",
        "[3.1, 6.7, 4.4]가 들어있는 리스트의 값을 문자열로 변환 후 다시 리스트로 만들어 변수 x에 담는 코드를 골라주세요\n",
        "\n",
        "1. x = list(str, [3.1, 6.7, 4.4])\n",
        "2. x = map(str, [3.1, 6.7, 4.4])\n",
        "3. x = str([3.1, 6.7, 4.4])\n",
        "4. x = list(map(str, [3.1, 6.7, 4.4]))\n",
        "5. x = map(int, [3.1, 6.7, 4.4])"
      ]
    },
    {
      "cell_type": "markdown",
      "metadata": {
        "id": "FqXT6R3ABsIO"
      },
      "source": [
        "<span style=\"color:red\">답변</span>"
      ]
    },
    {
      "cell_type": "markdown",
      "metadata": {
        "id": "Vw-Mo-ywBsIO"
      },
      "source": [
        "4"
      ]
    },
    {
      "cell_type": "markdown",
      "metadata": {
        "id": "zPloUe-KBsIO"
      },
      "source": [
        "### Chapter11 : `Python의 시퀀스 자료형 중 하나인 tuple에 대해 알아보고 문제를 해결해보자`"
      ]
    },
    {
      "cell_type": "markdown",
      "metadata": {
        "id": "0vv7WzGwBsIP"
      },
      "source": [
        "<span style=\"font-size:80%\">[문제1]<br><br></span>\n",
        "tuple과 list의 차이점으로 올바른 것을 모두 골라주세요\n",
        "\n",
        "1. list만 인덱싱이 가능해 원하는 값을 인덱스로 추출할 수 있다.\n",
        "2. tuple은 불변이고 list는 가변이다.\n",
        "3. tuple은 소괄호( () )를 사용하고 리스트는 대괄호( [ ] )를 사용한다.\n",
        "4. 튜플은 입출력이 자주 발행하는 경우 사용하고 리스트는 입출력이 자주 발생하지 않는 상황에 사용한다"
      ]
    },
    {
      "cell_type": "markdown",
      "metadata": {
        "id": "D7feV_t-BsIP"
      },
      "source": [
        "<span style=\"color:red\">답변</span>"
      ]
    },
    {
      "cell_type": "markdown",
      "metadata": {
        "id": "ZOZEKdXRBsIP"
      },
      "source": [
        "2, 3"
      ]
    },
    {
      "cell_type": "markdown",
      "metadata": {
        "id": "vCyWqDYVBsIP"
      },
      "source": [
        "----"
      ]
    },
    {
      "cell_type": "markdown",
      "metadata": {
        "id": "tr8zCjsJBsIQ"
      },
      "source": [
        "<span style=\"font-size:80%\">[문제2]<br><br></span>\n",
        "tuple a에 사용할 수 없는 코드를 골라주세요<br>\n",
        "a = (20, 10, 15)\n",
        "\n",
        "1. print(a[:])\n",
        "2. a.pop()\n",
        "3. sum(a)\n",
        "4. a.count(20)"
      ]
    },
    {
      "cell_type": "markdown",
      "metadata": {
        "id": "OOYiDuJoBsIQ"
      },
      "source": [
        "<span style=\"color:red\">답변</span>"
      ]
    },
    {
      "cell_type": "markdown",
      "metadata": {
        "id": "YD5uLtJaBsIQ"
      },
      "source": [
        "2"
      ]
    },
    {
      "cell_type": "markdown",
      "metadata": {
        "id": "_bqELnV1BsIQ"
      },
      "source": [
        "----"
      ]
    },
    {
      "cell_type": "markdown",
      "metadata": {
        "id": "8aAM5nr-BsIQ"
      },
      "source": [
        "<span style=\"font-size:80%\">[문제3]<br><br></span>\n",
        "아래 코드를 실행시켰을 때 발생하는 상황과 원인을 간략히 설명해주세요\n",
        "\n",
        "```\n",
        "바구니 = ( \"상추\", \"깻잎\", \"삼겹살\")\n",
        "바구니[1] = \"고사리\"\n",
        "```"
      ]
    },
    {
      "cell_type": "markdown",
      "metadata": {
        "id": "Sss4sEPVBsIQ"
      },
      "source": [
        "<span style=\"color:red\">답변</span>"
      ]
    },
    {
      "cell_type": "markdown",
      "metadata": {
        "id": "uMm4sd_cBsIQ"
      },
      "source": [
        "바구니가 튜플이므로 한번 생성된 튜플의 요소는 변경할 수 없다.\n",
        "튜플의 요소를 변경하고 싶다면, 튜플을 리스트로 변환한 후 변경하고 다시 튜플로 변환할 수 있다. 문제 해결을 위해 아래와 같이 코드를 작성할 수 있다.\n",
        "\n",
        "바구니 = ( \"상추\", \"깻잎\", \"삼겹살\")\n",
        "\n",
        "바구니 = list(바구니)\n",
        "\n",
        "바구니[1] = \"고사리\"\n",
        "\n",
        "바구니 = tuple(바구니)"
      ]
    },
    {
      "cell_type": "markdown",
      "metadata": {
        "id": "YQyC5jFyBsIQ"
      },
      "source": [
        "### Chapter12 : `Python의 시퀀스 자료형 중 하나인 dict에 대해 알아보고 문제를 해결해보자`"
      ]
    },
    {
      "cell_type": "markdown",
      "metadata": {
        "id": "Aihoh4EgBsIQ"
      },
      "source": [
        "<span style=\"font-size:80%\">[문제1]<br><br></span>\n",
        "딕셔너리 x에서 키에 해당하는 값을 모두 삭제하는 방법으로 옳은 것을 모두 골라주세요\n",
        "\n",
        "x = {'banana':3000, 'apple':1500, 'orange':2000}\n",
        "\n",
        "1. x.pop('apple')\n",
        "2. x.remove('python')\n",
        "3. del x['orange']\n",
        "4. x.popitem()"
      ]
    },
    {
      "cell_type": "code",
      "source": [
        "x = {'banana':3000, 'apple':1500, 'orange':2000}\n",
        "\n",
        "x.pop('apple')"
      ],
      "metadata": {
        "id": "zqqMnCwqXreK",
        "outputId": "d7cedbb7-409d-49d4-da7b-16b6a1d70bb2",
        "colab": {
          "base_uri": "https://localhost:8080/"
        }
      },
      "execution_count": 21,
      "outputs": [
        {
          "output_type": "execute_result",
          "data": {
            "text/plain": [
              "1500"
            ]
          },
          "metadata": {},
          "execution_count": 21
        }
      ]
    },
    {
      "cell_type": "code",
      "source": [
        "x = {'banana':3000, 'apple':1500, 'orange':2000}\n",
        "\n",
        "x.remove('python')"
      ],
      "metadata": {
        "id": "--dlFMcAX46l",
        "outputId": "395ed915-114b-4b94-81e3-fd7201febd55",
        "colab": {
          "base_uri": "https://localhost:8080/",
          "height": 207
        }
      },
      "execution_count": 14,
      "outputs": [
        {
          "output_type": "error",
          "ename": "AttributeError",
          "evalue": "'dict' object has no attribute 'remove'",
          "traceback": [
            "\u001b[0;31m---------------------------------------------------------------------------\u001b[0m",
            "\u001b[0;31mAttributeError\u001b[0m                            Traceback (most recent call last)",
            "\u001b[0;32m/tmp/ipython-input-879764105.py\u001b[0m in \u001b[0;36m<cell line: 0>\u001b[0;34m()\u001b[0m\n\u001b[1;32m      1\u001b[0m \u001b[0mx\u001b[0m \u001b[0;34m=\u001b[0m \u001b[0;34m{\u001b[0m\u001b[0;34m'banana'\u001b[0m\u001b[0;34m:\u001b[0m\u001b[0;36m3000\u001b[0m\u001b[0;34m,\u001b[0m \u001b[0;34m'apple'\u001b[0m\u001b[0;34m:\u001b[0m\u001b[0;36m1500\u001b[0m\u001b[0;34m,\u001b[0m \u001b[0;34m'orange'\u001b[0m\u001b[0;34m:\u001b[0m\u001b[0;36m2000\u001b[0m\u001b[0;34m}\u001b[0m\u001b[0;34m\u001b[0m\u001b[0;34m\u001b[0m\u001b[0m\n\u001b[1;32m      2\u001b[0m \u001b[0;34m\u001b[0m\u001b[0m\n\u001b[0;32m----> 3\u001b[0;31m \u001b[0mx\u001b[0m\u001b[0;34m.\u001b[0m\u001b[0mremove\u001b[0m\u001b[0;34m(\u001b[0m\u001b[0;34m'python'\u001b[0m\u001b[0;34m)\u001b[0m\u001b[0;34m\u001b[0m\u001b[0;34m\u001b[0m\u001b[0m\n\u001b[0m",
            "\u001b[0;31mAttributeError\u001b[0m: 'dict' object has no attribute 'remove'"
          ]
        }
      ]
    },
    {
      "cell_type": "code",
      "source": [
        "x = {'banana':3000, 'apple':1500, 'orange':2000}\n",
        "\n",
        "del x['orange']"
      ],
      "metadata": {
        "id": "UwSy6HAhX9Zs"
      },
      "execution_count": 22,
      "outputs": []
    },
    {
      "cell_type": "code",
      "source": [
        "x = {'banana':3000, 'apple':1500, 'orange':2000}\n",
        "\n",
        "x.popitem()"
      ],
      "metadata": {
        "id": "S8RWiPvlYA4F",
        "outputId": "3eb45d77-776f-442b-b074-1e49d40d40cf",
        "colab": {
          "base_uri": "https://localhost:8080/"
        }
      },
      "execution_count": 23,
      "outputs": [
        {
          "output_type": "execute_result",
          "data": {
            "text/plain": [
              "('orange', 2000)"
            ]
          },
          "metadata": {},
          "execution_count": 23
        }
      ]
    },
    {
      "cell_type": "markdown",
      "metadata": {
        "id": "g5ZUHpWoBsIQ"
      },
      "source": [
        "<span style=\"color:red\">답변</span>"
      ]
    },
    {
      "cell_type": "markdown",
      "metadata": {
        "id": "Uq0_7iz2BsIQ"
      },
      "source": [
        "1, 3"
      ]
    },
    {
      "cell_type": "code",
      "source": [
        "# x.popitem() : 맨 마지막 키-값 쌍을 삭제"
      ],
      "metadata": {
        "id": "sg-j4qokZMGe"
      },
      "execution_count": null,
      "outputs": []
    },
    {
      "cell_type": "markdown",
      "metadata": {
        "id": "DHMR90-bBsIQ"
      },
      "source": [
        "----"
      ]
    },
    {
      "cell_type": "markdown",
      "metadata": {
        "id": "DEeYNQmnBsIQ"
      },
      "source": [
        "<span style=\"font-size:80%\">[문제2]<br><br></span>\n",
        "딕셔너리의 메서드에 대한 설명으로 올바르지 않은 것을 모두 고르세요<br>\n",
        "\n",
        "1. setdefault는 키만 지정하면 값은 0으로 저장한다.\n",
        "2. update는 딕셔너리에서 키의 value 값을 수정한다.\n",
        "3. keys는 딕셔너리의 키-값 쌍을 모두 가져온다.\n",
        "4. clear는 딕셔너리의 모든 키-값 쌍을 삭제한다.\n",
        "5. setdefault에 키와 값을 넣어 실행하면 기존 딕셔너리에 없는 키값일 경우 키-값 쌍을 추가한다."
      ]
    },
    {
      "cell_type": "markdown",
      "metadata": {
        "id": "_8wttt2xBsIR"
      },
      "source": [
        "<span style=\"color:red\">답변</span>"
      ]
    },
    {
      "cell_type": "markdown",
      "source": [
        "1, 3"
      ],
      "metadata": {
        "id": "eEA4MZiMdhkk"
      }
    },
    {
      "cell_type": "markdown",
      "metadata": {
        "id": "WPpZqAguBsIR"
      },
      "source": [
        "setdefault(): 딕셔너리에서 주어진 키에 대한 값을 반환합니다. 만약 키가 딕셔너리에 없다면, 새로운 키와 기본 값을 딕셔너리에 추가합니다. 예를 들어, dict.setdefault('key', 'default')는 'key'가 딕셔너리에 있으면 그에 해당하는 값을, 없다면 'default'를 반환합니다.\n",
        "\n",
        "keys(): 딕셔너리의 모든 키를 반환합니다. 이때 반환되는 값은 딕셔너리의 키를 담은 특별한 객체이며, 이를 리스트로 변환하려면 list(dict.keys())와 같이 사용합니다."
      ]
    },
    {
      "cell_type": "markdown",
      "metadata": {
        "id": "H8D13cr_BsIR"
      },
      "source": [
        "----"
      ]
    },
    {
      "cell_type": "markdown",
      "metadata": {
        "id": "PtqJ7GdSBsIR"
      },
      "source": [
        "<span style=\"font-size:80%\">[문제3]<br><br></span>\n",
        "평균 점수를 구하는 코드를 result 변수에 작성해주세요\n",
        "\n",
        "```\n",
        "ozkim = { \"국어\" : 90, \"'수학\" : 80, \"과학\" : 82, \"영어\" : 72 }\n",
        "result =\n",
        "print(result)\n",
        "```"
      ]
    },
    {
      "cell_type": "code",
      "source": [
        "ozkim = { \"국어\" : 90, \"'수학\" : 80, \"과학\" : 82, \"영어\" : 72 }\n",
        "result = sum(ozkim.values()) / len(ozkim)\n",
        "print(result)"
      ],
      "metadata": {
        "id": "3kdZbqwqdpJL",
        "outputId": "79ff0ca4-9cfd-4192-84e5-37a7cf66799c",
        "colab": {
          "base_uri": "https://localhost:8080/"
        }
      },
      "execution_count": 24,
      "outputs": [
        {
          "output_type": "stream",
          "name": "stdout",
          "text": [
            "81.0\n"
          ]
        }
      ]
    },
    {
      "cell_type": "markdown",
      "metadata": {
        "id": "Hk7XqTDFBsIR"
      },
      "source": [
        "<span style=\"color:red\">답변</span>"
      ]
    },
    {
      "cell_type": "markdown",
      "metadata": {
        "id": "t9WQZwKgBsIR"
      },
      "source": [
        "sum(ozkim.values()) / len(ozkim)"
      ]
    },
    {
      "cell_type": "markdown",
      "metadata": {
        "id": "v9HNOmQ6BsIR"
      },
      "source": [
        "----"
      ]
    },
    {
      "cell_type": "markdown",
      "metadata": {
        "id": "NTTxgBCVBsIR"
      },
      "source": [
        "<span style=\"font-size:80%\">[문제4]<br><br></span>\n",
        "상자 딕셔너리에 아래 데이터를 추가하는 코드를 작성해 주세요\n",
        "\n",
        "```\n",
        "상자 = {\"아디다스\": [\"신발\", \"2개\"],\n",
        "            \"나이키\": [\"모자\", \"5개\"],\n",
        "            \"뉴발란스\": [\"가방\", \"1개\"]}\n",
        "````\n",
        "\n",
        "입력할 데이터 : 칼하트 / 후드티 / 2벌"
      ]
    },
    {
      "cell_type": "code",
      "source": [
        "상자 = {\n",
        "    \"아디다스\": [\"신발\", \"2개\"],\n",
        "    \"나이키\": [\"모자\", \"5개\"],\n",
        "    \"뉴발란스\": [\"가방\", \"1개\"]\n",
        "}\n",
        "\n",
        "상자[\"칼하트\"] = [\"후드티\", \"2벌\"]\n",
        "\n",
        "print(상자)\n"
      ],
      "metadata": {
        "id": "agljdJQ3d7BL",
        "outputId": "7e097288-05ab-433c-fe57-be2633c6c7d1",
        "colab": {
          "base_uri": "https://localhost:8080/"
        }
      },
      "execution_count": 28,
      "outputs": [
        {
          "output_type": "stream",
          "name": "stdout",
          "text": [
            "{'아디다스': ['신발', '2개'], '나이키': ['모자', '5개'], '뉴발란스': ['가방', '1개'], '칼하트': ['후드티', '2벌']}\n"
          ]
        }
      ]
    },
    {
      "cell_type": "markdown",
      "metadata": {
        "id": "cQsdD55zBsIR"
      },
      "source": [
        "<span style=\"color:red\">답변</span>"
      ]
    },
    {
      "cell_type": "markdown",
      "metadata": {
        "id": "jcr-jMOVBsIR"
      },
      "source": [
        "상자[’칼하트’] = [’후드티’, ‘2벌’]"
      ]
    },
    {
      "cell_type": "markdown",
      "metadata": {
        "id": "wYYvCx06BsIR"
      },
      "source": [
        "----"
      ]
    },
    {
      "cell_type": "markdown",
      "metadata": {
        "id": "GDW_E_O_BsIR"
      },
      "source": [
        "<span style=\"font-size:80%\">[문제5]<br><br></span>\n",
        "아래 keys 변수와 vals 변수에 들어있는 값을 이용해 agency_dict라는 딕셔너리를 만드는 코드를 작성해주세요\n",
        "\n",
        "```\n",
        "keys = [\"뉴진스\", \"아이브\", \"에스파\"]\n",
        "vals = [\"하이브\" , \"스타쉽\", \"SM\"]\n",
        "```"
      ]
    },
    {
      "cell_type": "markdown",
      "metadata": {
        "id": "hRp4BfQ5BsIR"
      },
      "source": [
        "<span style=\"color:red\">답변</span>"
      ]
    },
    {
      "cell_type": "code",
      "source": [
        "keys = [\"뉴진스\", \"아이브\", \"에스파\"]\n",
        "vals = [\"하이브\" , \"스타쉽\", \"SM\"]\n",
        "\n",
        "agency_dict = dict(zip(keys, vals))\n",
        "print(agency_dict)"
      ],
      "metadata": {
        "id": "8-wQEuJ3gOFs",
        "outputId": "c5fdfd6a-c9bd-42bb-aab1-0248bee7f056",
        "colab": {
          "base_uri": "https://localhost:8080/"
        }
      },
      "execution_count": 29,
      "outputs": [
        {
          "output_type": "stream",
          "name": "stdout",
          "text": [
            "{'뉴진스': '하이브', '아이브': '스타쉽', '에스파': 'SM'}\n"
          ]
        }
      ]
    },
    {
      "cell_type": "code",
      "source": [
        "keys = [\"뉴진스\", \"아이브\", \"에스파\"]\n",
        "vals = [\"하이브\" , \"스타쉽\", \"SM\"]\n",
        "\n",
        "agency_dict = {}\n",
        "for i in range(len(keys)):\n",
        "      agency_dict[keys[i]] = vals[i]\n",
        "\n",
        "      print(agency_dict)"
      ],
      "metadata": {
        "id": "is01Fx4MgWSC",
        "outputId": "c93cd623-41a1-4422-b3a5-6fb4c70e694c",
        "colab": {
          "base_uri": "https://localhost:8080/"
        }
      },
      "execution_count": 30,
      "outputs": [
        {
          "output_type": "stream",
          "name": "stdout",
          "text": [
            "{'뉴진스': '하이브'}\n",
            "{'뉴진스': '하이브', '아이브': '스타쉽'}\n",
            "{'뉴진스': '하이브', '아이브': '스타쉽', '에스파': 'SM'}\n"
          ]
        }
      ]
    },
    {
      "cell_type": "markdown",
      "metadata": {
        "id": "AqFW4PTyBsIR"
      },
      "source": []
    },
    {
      "cell_type": "markdown",
      "metadata": {
        "id": "Va7XSSv6BsIR"
      },
      "source": [
        "### Chapter13 : `Python의 시퀀스 자료형 중 하나인 set에 대해 알아보고 문제를 해결해보자`"
      ]
    },
    {
      "cell_type": "markdown",
      "metadata": {
        "id": "UGQINBriBsIR"
      },
      "source": [
        "<span style=\"font-size:80%\">[문제1]<br><br></span>\n",
        "세트 money의 결과로 올바른 것을 골라주세요\n",
        "\n",
        "money = { '만원', '만원', '오만원', '백원', '오만원', '십원' }\n",
        "\n",
        "1. { '백원', '십원' }\n",
        "2. {'만원', '백원', '십원', '오만원'}\n",
        "3. {'만원', '백원', '십원'}\n",
        "4. {'만원',  '오만원'}"
      ]
    },
    {
      "cell_type": "code",
      "source": [
        "money = { '만원', '만원', '오만원', '백원', '오만원', '십원' }\n",
        "print(money)"
      ],
      "metadata": {
        "id": "pHcB-jtjhAIF",
        "outputId": "5367526f-78dc-4b3e-89d4-01c22a999100",
        "colab": {
          "base_uri": "https://localhost:8080/"
        }
      },
      "execution_count": 33,
      "outputs": [
        {
          "output_type": "stream",
          "name": "stdout",
          "text": [
            "{'십원', '만원', '백원', '오만원'}\n"
          ]
        }
      ]
    },
    {
      "cell_type": "markdown",
      "metadata": {
        "id": "jFuPgy8ABsIR"
      },
      "source": [
        "<span style=\"color:red\">답변</span>"
      ]
    },
    {
      "cell_type": "markdown",
      "metadata": {
        "id": "UCyBPyJKBsIR"
      },
      "source": [
        "2"
      ]
    },
    {
      "cell_type": "markdown",
      "metadata": {
        "id": "sUIRxGEIBsIR"
      },
      "source": [
        "----"
      ]
    },
    {
      "cell_type": "markdown",
      "metadata": {
        "id": "1kkSvYuOBsIR"
      },
      "source": [
        "<span style=\"font-size:80%\">[문제2]<br><br></span>\n",
        "세트 x = {3, 6, 9} 그리고 y = {1, 2, 3}가 있을 때, 집합 연산의 결과로 잘못된 것을 모두 고르세요\n",
        "\n",
        "1. set.union(x, y)는 {1, 2, 3, 6, 9}\n",
        "2. x ^ y는 {1, 3, 6}\n",
        "3. x - y는 {6, 9}\n",
        "4. x & y는 { 3 }\n",
        "5. set.difference(y, x)는 { 2 }"
      ]
    },
    {
      "cell_type": "code",
      "source": [
        "x = {3, 6, 9}\n",
        "y = {1, 2, 3}\n",
        "\n",
        "set.union(x, y)"
      ],
      "metadata": {
        "id": "Bj6TBACXiQ99",
        "outputId": "bd5e288d-c67d-4928-93d4-51b76bd9c23f",
        "colab": {
          "base_uri": "https://localhost:8080/"
        }
      },
      "execution_count": 37,
      "outputs": [
        {
          "output_type": "execute_result",
          "data": {
            "text/plain": [
              "{1, 2, 3, 6, 9}"
            ]
          },
          "metadata": {},
          "execution_count": 37
        }
      ]
    },
    {
      "cell_type": "code",
      "source": [
        "x = {3, 6, 9}\n",
        "y = {1, 2, 3}\n",
        "\n",
        "x ^ y"
      ],
      "metadata": {
        "id": "qidtPKBkiZi2",
        "outputId": "4819872b-584c-4bec-8929-c105aa62b40b",
        "colab": {
          "base_uri": "https://localhost:8080/"
        }
      },
      "execution_count": 38,
      "outputs": [
        {
          "output_type": "execute_result",
          "data": {
            "text/plain": [
              "{1, 2, 6, 9}"
            ]
          },
          "metadata": {},
          "execution_count": 38
        }
      ]
    },
    {
      "cell_type": "code",
      "source": [
        "x = {3, 6, 9}\n",
        "y = {1, 2, 3}\n",
        "\n",
        "x - y"
      ],
      "metadata": {
        "id": "mFiV0c_fid1F",
        "outputId": "4e714a3c-45ba-4c86-bbea-b56d7ee6d228",
        "colab": {
          "base_uri": "https://localhost:8080/"
        }
      },
      "execution_count": 39,
      "outputs": [
        {
          "output_type": "execute_result",
          "data": {
            "text/plain": [
              "{6, 9}"
            ]
          },
          "metadata": {},
          "execution_count": 39
        }
      ]
    },
    {
      "cell_type": "code",
      "source": [
        "x = {3, 6, 9}\n",
        "y = {1, 2, 3}\n",
        "\n",
        "x & y"
      ],
      "metadata": {
        "id": "_Py-xkRuijIJ",
        "outputId": "14aaf084-435b-48af-8427-e669ecfa4558",
        "colab": {
          "base_uri": "https://localhost:8080/"
        }
      },
      "execution_count": 40,
      "outputs": [
        {
          "output_type": "execute_result",
          "data": {
            "text/plain": [
              "{3}"
            ]
          },
          "metadata": {},
          "execution_count": 40
        }
      ]
    },
    {
      "cell_type": "code",
      "source": [
        "x = {3, 6, 9}\n",
        "y = {1, 2, 3}\n",
        "\n",
        "set.difference(y, x)"
      ],
      "metadata": {
        "id": "B37P8b4UioVY",
        "outputId": "54f7f31d-9c98-453a-8470-a3a58f74c68f",
        "colab": {
          "base_uri": "https://localhost:8080/"
        }
      },
      "execution_count": 41,
      "outputs": [
        {
          "output_type": "execute_result",
          "data": {
            "text/plain": [
              "{1, 2}"
            ]
          },
          "metadata": {},
          "execution_count": 41
        }
      ]
    },
    {
      "cell_type": "markdown",
      "metadata": {
        "id": "479fxiMFBsIR"
      },
      "source": [
        "<span style=\"color:red\">답변</span>"
      ]
    },
    {
      "cell_type": "markdown",
      "metadata": {
        "id": "dyg1G4aZBsIR"
      },
      "source": [
        "2, 5"
      ]
    },
    {
      "cell_type": "markdown",
      "metadata": {
        "id": "XY13Ei-XBsIS"
      },
      "source": [
        "----"
      ]
    },
    {
      "cell_type": "markdown",
      "metadata": {
        "id": "UIk8JdleBsIS"
      },
      "source": [
        "<span style=\"font-size:80%\">[문제3]<br><br></span>\n",
        "과일 바구니 안에 두리안이 있는지 확인하기 위한 코드를 작성해 주세요\n",
        "\n",
        "과일_바구니 = {'사과', '포도', '샤인머스켓', '두리안'}"
      ]
    },
    {
      "cell_type": "code",
      "source": [
        "과일_바구니 = {'사과', '포도', '샤인머스켓', '두리안'}\n",
        "\n",
        "'두리안' in 과일_바구니"
      ],
      "metadata": {
        "id": "XOmkraCEjqhp",
        "outputId": "b1b59292-b709-489b-e629-fbe6d21f66ee",
        "colab": {
          "base_uri": "https://localhost:8080/"
        }
      },
      "execution_count": 42,
      "outputs": [
        {
          "output_type": "execute_result",
          "data": {
            "text/plain": [
              "True"
            ]
          },
          "metadata": {},
          "execution_count": 42
        }
      ]
    },
    {
      "cell_type": "markdown",
      "metadata": {
        "id": "pSq8o4KzBsIS"
      },
      "source": [
        "<span style=\"color:red\">답변</span>"
      ]
    },
    {
      "cell_type": "markdown",
      "metadata": {
        "id": "iPMWRF5-BsIS"
      },
      "source": [
        "'두리안' in 과일_바구니"
      ]
    },
    {
      "cell_type": "markdown",
      "metadata": {
        "id": "vkQnlRmWBsIS"
      },
      "source": [
        "----"
      ]
    },
    {
      "cell_type": "markdown",
      "metadata": {
        "id": "K4k0nGWTBsIS"
      },
      "source": [
        "<span style=\"font-size:80%\">[문제4]<br><br></span>\n",
        "메서드와 연산자의 기능이 잘못 짝지어진 것을 골라주세요\n",
        "\n",
        "1. set.intersection은 &와 같다.\n",
        "2. set.update는 |=와 같다.\n",
        "3. symmetric_difference_update는 -=와 같다.\n",
        "4. issuperset은 >와 같다.\n",
        "5. set.union은 |와 같다."
      ]
    },
    {
      "cell_type": "markdown",
      "metadata": {
        "id": "-0DkToIZBsIS"
      },
      "source": [
        "<span style=\"color:red\">답변</span>"
      ]
    },
    {
      "cell_type": "markdown",
      "metadata": {
        "id": "uuBqlGOIBsIS"
      },
      "source": [
        "3"
      ]
    },
    {
      "cell_type": "code",
      "source": [
        "# symmetric_difference_update' 메서드는 '^=' 연산자와 동일한 기능을 한다.\n",
        "# difference_update는 -=와 같다.\n",
        "# x.symmetric_difference_update(y) 메서드는  대칭차집합 (x ^ y) 과 같다."
      ],
      "metadata": {
        "id": "naDsNV0RkVio"
      },
      "execution_count": 43,
      "outputs": []
    },
    {
      "cell_type": "markdown",
      "metadata": {
        "id": "L_xstCBoBsIS"
      },
      "source": [
        "----"
      ]
    },
    {
      "cell_type": "markdown",
      "metadata": {
        "id": "6-tLKJHLBsIS"
      },
      "source": [
        "<span style=\"font-size:80%\">[문제5]<br><br></span>\n",
        "세트를 만드는 방법으로 올바르지 않은 것을 골라주세요\n",
        "\n",
        "1. x = {1, 2, 3, 4, 5}\n",
        "2. x = { }\n",
        "3. x = set('hello')\n",
        "4. x  = set(range(10))\n",
        "5. x = set()"
      ]
    },
    {
      "cell_type": "markdown",
      "metadata": {
        "id": "qGhTsR6-BsIS"
      },
      "source": [
        "<span style=\"color:red\">답변</span>"
      ]
    },
    {
      "cell_type": "markdown",
      "metadata": {
        "id": "8_xn3VcJBsIS"
      },
      "source": [
        "2"
      ]
    },
    {
      "cell_type": "code",
      "source": [
        "# x = { }는 빈 딕셔너리를 생성한다."
      ],
      "metadata": {
        "id": "yLYA9ThNmMDQ"
      },
      "execution_count": null,
      "outputs": []
    }
  ],
  "metadata": {
    "language_info": {
      "name": "python"
    },
    "colab": {
      "provenance": []
    },
    "kernelspec": {
      "name": "python3",
      "display_name": "Python 3"
    }
  },
  "nbformat": 4,
  "nbformat_minor": 0
}
