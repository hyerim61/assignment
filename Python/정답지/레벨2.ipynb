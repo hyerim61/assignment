{
 "cells": [
  {
   "cell_type": "markdown",
   "metadata": {
    "id": "WXEwMsfUct7U"
   },
   "source": [
    "안녕하세요.<br><br>\n",
    "수강생 여러분~!\n",
    "\n",
    "\"Challenge : 사칙연산을 이용해 문제 풀기\"는 잘 풀어보셨나요?\n",
    "\n",
    "\n",
    "너~~무 어려웠어요! 하는 분들을 위해 만들어봤습니다!\n",
    "\n",
    "문제 도장깨기 !!!!!\n",
    "\n",
    "차근차근 풀어나가면 파이썬 정복 가능입니다!\n",
    "\n",
    "화이팅 !\n",
    "\n",
    "Chapter04의 수업 내용을 바탕으로 아래 문제를 풀어주시면 됩니다.\n",
    "\n",
    "<br/>\n",
    "간혹 강의에서 언급되지 않은 내용이 문제로 나올 수 있습니다.<br>\n",
    "그럴땐 강의 내용 외 문제는 구글링을 통해 해결해주세요<br></span>\n",
    "<span style=\"font-size:80%\">\n",
    "(구글링 또한 개발자가 갖쳐야할 역량 중에 하나랍니다 😊)\n",
    "</span>\n",
    "\n",
    "\n",
    "<br>\n",
    "<br>\n",
    "\n",
    "[**답변 입력 방법**]\n",
    "\n",
    "문제 아래에 있는 코드 입력창에 정답코드를 작성하신 후  __▷ 버튼을 클릭해 코드를 실행__ 해보세요<br>\n",
    "<br>"
   ]
  },
  {
   "cell_type": "markdown",
   "metadata": {
    "id": "qoyC9wF-3hvs"
   },
   "source": [
    "-----"
   ]
  },
  {
   "cell_type": "markdown",
   "metadata": {
    "id": "IT-n73MOTais"
   },
   "source": [
    "<br>\n",
    "\n",
    "__[문제1]__\n",
    "\n",
    "한 주머니에 사탕이 5개씩 들어있습니다.\n",
    "\n",
    "바리바리스타인 나에게는 3개의 주머니가 있습니다!\n",
    "\n",
    "근데 길가다가 사탕을 주웠습니다. 그래서 사탕 3개가 주머니에 더 추가되었습니다.\n",
    "\n",
    "최종적으로 주머니에 들어있는 사탕의 총 개수는 얼마인가요?\n",
    "\n",
    "<br>"
   ]
  },
  {
   "cell_type": "markdown",
   "metadata": {},
   "source": [
    "<aside>\n",
    "🔑 정답 : (5 * 3) + 3\n",
    "\n",
    "**총 사탕 개수를 계산하는 공식은 다음과 같습니다: `(한 주머니의 사탕 개수 * 주머니 개수) + 추가된 사탕 개수`**\n",
    "\n",
    "- `예제 코드는 변수를 이용한 코드입니다.\n",
    "추가로 공부하고 싶다면 아래의 코드를 참고해주세요 🙂`\n",
    "\n",
    "```python\n",
    "candies = 5  # 한 주머니에 들어있는 사탕 개수\n",
    "pouches = 3  # 주머니 개수\n",
    "add = 3  # 추가된 사탕 개수\n",
    "\n",
    "total_candies = (candies * pouches) + add \n",
    "\n",
    "```\n",
    "\n",
    "</aside>\n"
   ]
  },
  {
   "cell_type": "markdown",
   "metadata": {
    "id": "xCC68qp3Tait"
   },
   "source": [
    "<br>\n",
    "\n",
    "__[문제2]__\n",
    "\n",
    "10명이 각자 4개의 공을 가지고 있습니다.\n",
    "\n",
    "운이 좋은 3명이 2개의 공을 더 받았습니다.\n",
    "\n",
    "10명이 가진 모든 공의 총 개수를 구하세요.\n"
   ]
  },
  {
   "cell_type": "markdown",
   "metadata": {},
   "source": [
    "<aside>\n",
    "🔑 정답 : (**10 * 4) + (3 * 2)**\n",
    "\n",
    "<br>\n",
    "\n",
    "총 공의 개수를 계산하는 공식은 다음과 같습니다: `(전체 사람 수 * 기본 공 개수) + (추가로 받은 사람 수 * 추가 공 개수)`\n",
    "\n",
    "- `예제 코드는 변수를 이용한 코드입니다.\n",
    "추가로 공부하고 싶다면 아래의 코드를 참고해주세요 🙂`\n",
    "\n",
    "```python\n",
    "people = 10  # 사람 수\n",
    "balls = 4  # 한 사람이 가진 공 개수\n",
    "lucky_people = 3  # 추가 공을 받은 사람 수\n",
    "extra_balls = 2  # 추가 공 개수\n",
    "\n",
    "total_balls = (people * balls) + (lucky_people * extra_balls)\n",
    "\n",
    "```\n",
    "\n",
    "</aside>"
   ]
  },
  {
   "cell_type": "markdown",
   "metadata": {
    "id": "vYmoL8LjTaiv"
   },
   "source": [
    "<br>\n",
    "\n",
    "__[문제3]__\n",
    "\n",
    "5명의 학생이 3시간씩 공부했습니다.\n",
    "\n",
    "이상한 강박관념이 있는 나는 모든 시간을 분으로 계산하고 싶습니다.\n",
    "\n",
    "대신 계산해주세요 !\n"
   ]
  },
  {
   "cell_type": "markdown",
   "metadata": {},
   "source": [
    "<aside>\n",
    "🔑 정답 : 5 * 3 * 60\n",
    "\n",
    "<br>\n",
    "\n",
    "**총 공부 시간을 분으로 계산하는 공식은 다음과 같습니다: `학생 수 * 공부한 시간 * 1시간(60분)`**\n",
    "\n",
    "- `예제 코드는 변수를 이용한 코드입니다.\n",
    "추가로 공부하고 싶다면 아래의 코드를 참고해주세요 🙂`\n",
    "\n",
    "```python\n",
    "students = 5  # 학생 수\n",
    "hours = 3  # 학생당 공부 시간\n",
    "minutes = 60  # 1시간은 60분\n",
    "\n",
    "total_minutes = students * hours * minutes \n",
    "\n",
    "```\n",
    "\n",
    "</aside>"
   ]
  },
  {
   "cell_type": "markdown",
   "metadata": {
    "id": "PsT4tvOQTaiz"
   },
   "source": [
    "<br>\n",
    "\n",
    "__[문제4]__\n",
    "\n",
    "차가 9리터의 연료를 가지고 있습니다.\n",
    "\n",
    "연료가 3일 동안 계속 줄어들며, 하루에 2리터씩 소비됩니다.\n",
    "\n",
    "3일 뒤 차에 남은 연료는 몇 리터인가요?"
   ]
  },
  {
   "cell_type": "markdown",
   "metadata": {},
   "source": [
    "🔑 정답 : 9 - (3 * 2)\n",
    "<br>\n",
    "\n",
    "**남은 연료를 계산하는 공식은 다음과 같습니다: `초기 연료량 - (하루 소비량 * 일수)`**\n",
    "\n",
    "- `예제 코드는 변수를 이용한 코드입니다.\n",
    "추가로 공부하고 싶다면 아래의 코드를 참고해주세요 🙂`\n",
    "\n",
    "```python\n",
    "fuel = 9  # 초기 연료량\n",
    "daily = 2  # 하루 소비 연료량\n",
    "days = 3  # 소비 기간\n",
    "\n",
    "remaining_fuel = fuel - (daily * days) \n",
    "\n",
    "```"
   ]
  },
  {
   "cell_type": "markdown",
   "metadata": {
    "id": "2Jte2VLKdiPm"
   },
   "source": [
    "__[문제5]__\n",
    "\n",
    "어떤 정사각형의 넓이가 144cm²입니다.\n",
    "\n",
    "정사각형의 한 변의 길이를 구하세요.\n"
   ]
  },
  {
   "cell_type": "markdown",
   "metadata": {},
   "source": [
    "<aside>\n",
    "🔑 정답 : 144 ** 0.5 or. 144 ** (1/2)\n",
    "<br>\n",
    "\n",
    "**정사각형의 한 변의 길이를 계산하는 공식은 다음과 같습니다: `넓이 ** 0.5` (제곱근 계산)**\n",
    "\n",
    "- `예제 코드는 변수를 이용한 코드입니다.\n",
    "추가로 공부하고 싶다면 아래의 코드를 참고해주세요 🙂`\n",
    "\n",
    "```python\n",
    "area = 144  # 정사각형의 넓이\n",
    "\n",
    "side_length = area ** 0.5  \n",
    "```\n",
    "\n",
    "</aside>"
   ]
  },
  {
   "cell_type": "markdown",
   "metadata": {
    "id": "VeKfloDEU3C5"
   },
   "source": [
    "<br>\n",
    "\n",
    "__[문제6]__\n",
    "\n",
    "오즈 코딩 스쿨 백엔드 과정에 참여한 수강생 중 5명의 수강생이 자율적으로 스터디 그룹을 결성했습니다.\n",
    "\n",
    "스터디 그룹 내에는 한 주간 배운 내용으로 매주 쪽지 시험을 보는 룰이 있습니다.\n",
    "\n",
    "이 쪽지 시험의 평균이 70점이 넘으면 주말 스터디는 없습니다.\n",
    "\n",
    "이들의 평균 점수를 대신 계산해주세요.\n",
    "\n",
    "<br>\n",
    "A: 65, B: 75, C: 50, D: 80, E: 60\n",
    "\n",
    "<br>\n"
   ]
  },
  {
   "cell_type": "markdown",
   "metadata": {},
   "source": [
    "<aside>\n",
    "🔑 정답 : (65 + 75 + 50 + 80 + 60)/5\n",
    "<br>\n",
    "\n",
    "**평균을 계산하는 공식은 다음과 같습니다: `(총 점수의 합) / 학생 수`**\n",
    "\n",
    "- `예제 코드는 변수를 이용한 코드입니다.\n",
    "추가로 공부하고 싶다면 아래의 코드를 참고해주세요 🙂`\n",
    "\n",
    "```python\n",
    "score = 65 + 75 + 50 + 80 + 60\n",
    "\n",
    "average = score/5\n",
    "```\n",
    "\n",
    "</aside>"
   ]
  },
  {
   "cell_type": "code",
   "execution_count": null,
   "metadata": {
    "id": "avyqM7U7U3C6"
   },
   "outputs": [],
   "source": []
  }
 ],
 "metadata": {
  "colab": {
   "provenance": []
  },
  "kernelspec": {
   "display_name": "Python 3",
   "name": "python3"
  },
  "language_info": {
   "codemirror_mode": {
    "name": "ipython",
    "version": 3
   },
   "file_extension": ".py",
   "mimetype": "text/x-python",
   "name": "python",
   "nbconvert_exporter": "python",
   "pygments_lexer": "ipython3",
   "version": "3.12.3"
  }
 },
 "nbformat": 4,
 "nbformat_minor": 0
}
