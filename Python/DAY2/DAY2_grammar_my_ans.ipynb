{
  "cells": [
    {
      "cell_type": "markdown",
      "metadata": {
        "id": "17Bd_Sg9rEbY"
      },
      "source": [
        "<span style=\"font-size:100%\">\n",
        "\n",
        "수업은 모두 열심히 들으셨나요?\n",
        "\n",
        "간혹 강의에서 언급되지 않은 내용이 문제로 나올 수 있습니다.<br>\n",
        "그럴땐 강의 내용 외 문제는 구글링을 통해 해결해주세요<br></span>\n",
        "<span style=\"font-size:80%\">\n",
        "(구글링 또한 개발자가 갖쳐야할 역량 중에 하나랍니다 😊)\n",
        "</span>\n",
        "\n",
        "---"
      ]
    },
    {
      "cell_type": "markdown",
      "metadata": {
        "id": "uTP-PIflrEba"
      },
      "source": [
        "### Chapter05 : `Python 변수에 대한 개념 복습하기`"
      ]
    },
    {
      "cell_type": "markdown",
      "metadata": {
        "id": "Y6zhbJ6TrEba"
      },
      "source": [
        "<span style=\"font-size:80%\">[문제1]<br><br></span>\n",
        "```Python으로 변수를 생성하는 방법으로 올바른 것을 고르세요```\n",
        "\n",
        "1. number == 20\n",
        "2. 100 == number\n",
        "3. number(7)\n",
        "4. number = 7"
      ]
    },
    {
      "cell_type": "markdown",
      "metadata": {
        "id": "FbOSD_larEbb"
      },
      "source": [
        "<span style=\"color:red\">답변</span>"
      ]
    },
    {
      "cell_type": "markdown",
      "metadata": {
        "id": "T-ZRJsNDrEbb"
      },
      "source": [
        "4"
      ]
    },
    {
      "cell_type": "markdown",
      "metadata": {
        "id": "Yg7MCGi7rEbb"
      },
      "source": [
        "----"
      ]
    },
    {
      "cell_type": "markdown",
      "metadata": {
        "id": "9cB_ApGvrEbb"
      },
      "source": [
        "<span style=\"font-size:80%\">[문제2]<br><br></span>\n",
        "```다음 중 올바르지 않은 것을 골라주세요```\n",
        "\n",
        "이름 = \"김오즈\"<br>\n",
        "나이 = 14<br>\n",
        "소속 = \"마법중\"<br>\n",
        "등급 = 3<br>\n",
        "\n",
        "1. 이름 + 소속\n",
        "2. 나이 + 등급\n",
        "3. 소속 + 등급"
      ]
    },
    {
      "cell_type": "markdown",
      "metadata": {
        "id": "5l_CMSV9rEbb"
      },
      "source": [
        "<span style=\"color:red\">답변</span>"
      ]
    },
    {
      "cell_type": "markdown",
      "metadata": {
        "id": "mem17a-1rEbb"
      },
      "source": [
        "3"
      ]
    },
    {
      "cell_type": "markdown",
      "metadata": {
        "id": "q2BtyedKrEbb"
      },
      "source": [
        "----"
      ]
    },
    {
      "cell_type": "markdown",
      "metadata": {
        "id": "Qn-iBHfzrEbb"
      },
      "source": [
        "<span style=\"font-size:80%\">[문제3]<br><br></span>\n",
        "```아래 변수의 type으로 올바른것을 골라주세요```\n",
        "\n",
        "퀴즈 = \"스페인에서 카리나를 보고 하는 말은?\"<br>\n",
        "type(퀴즈)"
      ]
    },
    {
      "cell_type": "markdown",
      "metadata": {
        "id": "pa5Q_93UrEbb"
      },
      "source": [
        "<span style=\"color:red\">답변</span>"
      ]
    },
    {
      "cell_type": "markdown",
      "metadata": {
        "id": "lW5NohwErEbb"
      },
      "source": [
        "str"
      ]
    },
    {
      "cell_type": "markdown",
      "metadata": {
        "id": "qhwMtpmyrEbb"
      },
      "source": [
        "----"
      ]
    },
    {
      "cell_type": "markdown",
      "metadata": {
        "id": "01dYWS1hrEbc"
      },
      "source": [
        "<span style=\"font-size:80%\">[문제4]<br><br></span>\n",
        "```다음 중 변수 이름으로 사용할 수 없는 것을 모두 골라주세요```\n",
        "\n",
        "1. 78abc\n",
        "2. ABC\n",
        "3. _ABC\n",
        "4. _hello%2\n",
        "5. for"
      ]
    },
    {
      "cell_type": "markdown",
      "metadata": {
        "id": "OPzFkmmArEbc"
      },
      "source": [
        "<span style=\"color:red\">답변</span>"
      ]
    },
    {
      "cell_type": "markdown",
      "metadata": {
        "id": "CMn3ws3arEbc"
      },
      "source": [
        "1, 4"
      ]
    },
    {
      "cell_type": "code",
      "source": [
        "# 변수의 이름은 숫자로 시작할 수 없다.\n",
        "# 변수의 이름에는 특수문자는 사용할 수 없다."
      ],
      "metadata": {
        "id": "Q4vGT5Q9vFmy"
      },
      "execution_count": null,
      "outputs": []
    },
    {
      "cell_type": "markdown",
      "metadata": {
        "id": "p11idjnbrEbc"
      },
      "source": [
        "----"
      ]
    },
    {
      "cell_type": "markdown",
      "metadata": {
        "id": "HgEx41a8rEbc"
      },
      "source": [
        "<span style=\"font-size:80%\">[문제5]<br><br></span>\n",
        "```다음 중 변수와 연산자의 사용 방법으로 올바르지 않은 것을 모두 골라주세요```\n",
        "\n",
        "x = 3\n",
        "y = 7\n",
        "\n",
        "1. x = x + y\n",
        "2. x // 2\n",
        "3. z >< x\n",
        "4. y += x\n",
        "5. ++x"
      ]
    },
    {
      "cell_type": "markdown",
      "metadata": {
        "id": "-NPlU_fWrEbc"
      },
      "source": [
        "<span style=\"color:red\">답변</span>"
      ]
    },
    {
      "cell_type": "markdown",
      "metadata": {
        "id": "ruS657-XrEbc"
      },
      "source": [
        "3, 5"
      ]
    },
    {
      "cell_type": "code",
      "source": [
        "# y += x 는 y = y + x와 같은 의미의 복합 대입 연산자이다.\n",
        "# y =+ x 는 y = (+x)"
      ],
      "metadata": {
        "id": "M448WhiMwRve"
      },
      "execution_count": null,
      "outputs": []
    },
    {
      "cell_type": "markdown",
      "metadata": {
        "id": "cO575Af0rEbc"
      },
      "source": [
        "----"
      ]
    },
    {
      "cell_type": "markdown",
      "metadata": {
        "id": "ToNvMz_FrEbc"
      },
      "source": [
        "### Chapter06 : `Python 자료형인 int와 float 개념 복습하기`"
      ]
    },
    {
      "cell_type": "markdown",
      "metadata": {
        "id": "kXzPdiCirEbc"
      },
      "source": [
        "<span style=\"font-size:80%\">[문제1]<br><br></span>\n",
        "```실수를 정수로 만드는 식으로 올바른 것을 고르세요```\n",
        "\n",
        "1. str(3.5)\n",
        "2. int(3.5)\n",
        "3. float(3.5)"
      ]
    },
    {
      "cell_type": "markdown",
      "metadata": {
        "id": "RnmcDHdYrEbc"
      },
      "source": [
        "<span style=\"color:red\">답변</span>"
      ]
    },
    {
      "cell_type": "markdown",
      "metadata": {
        "id": "X1Z20atdrEbc"
      },
      "source": [
        "2"
      ]
    },
    {
      "cell_type": "markdown",
      "metadata": {
        "id": "wY3RyFt_rEbc"
      },
      "source": [
        "----"
      ]
    },
    {
      "cell_type": "markdown",
      "metadata": {
        "id": "OzmYPB38rEbc"
      },
      "source": [
        "<span style=\"font-size:80%\">[문제2]<br><br></span>\n",
        "```실수 3.5의 type과 동일한 것을 고르세요```\n",
        "\n",
        "1. float(17//3)\n",
        "2. int(10)-9\n",
        "3. float11/2\n",
        "4. float(10)-2"
      ]
    },
    {
      "cell_type": "code",
      "source": [
        "float(17//3)"
      ],
      "metadata": {
        "id": "oFnaiD_LxacR",
        "outputId": "dd09d6bb-ab1a-467b-aaf0-fc3ad7bb4801",
        "colab": {
          "base_uri": "https://localhost:8080/"
        }
      },
      "execution_count": 3,
      "outputs": [
        {
          "output_type": "execute_result",
          "data": {
            "text/plain": [
              "5.0"
            ]
          },
          "metadata": {},
          "execution_count": 3
        }
      ]
    },
    {
      "cell_type": "code",
      "source": [
        "int(10)-9"
      ],
      "metadata": {
        "id": "VMUK0oXJxcHi",
        "outputId": "1eeae132-8825-4a92-98fa-debf0cc0279f",
        "colab": {
          "base_uri": "https://localhost:8080/"
        }
      },
      "execution_count": 4,
      "outputs": [
        {
          "output_type": "execute_result",
          "data": {
            "text/plain": [
              "1"
            ]
          },
          "metadata": {},
          "execution_count": 4
        }
      ]
    },
    {
      "cell_type": "code",
      "source": [
        "float11/2"
      ],
      "metadata": {
        "id": "BkL8S2NMxeqF",
        "outputId": "8b49a927-3999-48b1-f6e8-6c407d1dceeb",
        "colab": {
          "base_uri": "https://localhost:8080/",
          "height": 173
        }
      },
      "execution_count": 7,
      "outputs": [
        {
          "output_type": "error",
          "ename": "NameError",
          "evalue": "name 'float11' is not defined",
          "traceback": [
            "\u001b[0;31m---------------------------------------------------------------------------\u001b[0m",
            "\u001b[0;31mNameError\u001b[0m                                 Traceback (most recent call last)",
            "\u001b[0;32m/tmp/ipython-input-2284405510.py\u001b[0m in \u001b[0;36m<cell line: 0>\u001b[0;34m()\u001b[0m\n\u001b[0;32m----> 1\u001b[0;31m \u001b[0mfloat11\u001b[0m\u001b[0;34m/\u001b[0m\u001b[0;36m2\u001b[0m\u001b[0;34m\u001b[0m\u001b[0;34m\u001b[0m\u001b[0m\n\u001b[0m",
            "\u001b[0;31mNameError\u001b[0m: name 'float11' is not defined"
          ]
        }
      ]
    },
    {
      "cell_type": "code",
      "source": [
        "float(10)-2"
      ],
      "metadata": {
        "id": "lTFaaWvNx-5M",
        "outputId": "e58a9d33-9f7d-4bda-bbaa-0ffa579dbf9b",
        "colab": {
          "base_uri": "https://localhost:8080/"
        }
      },
      "execution_count": 8,
      "outputs": [
        {
          "output_type": "execute_result",
          "data": {
            "text/plain": [
              "8.0"
            ]
          },
          "metadata": {},
          "execution_count": 8
        }
      ]
    },
    {
      "cell_type": "markdown",
      "metadata": {
        "id": "02uQWvqorEbd"
      },
      "source": [
        "<span style=\"color:red\">답변</span>"
      ]
    },
    {
      "cell_type": "markdown",
      "metadata": {
        "id": "sF8IUwvFrEbd"
      },
      "source": [
        "1, 4"
      ]
    },
    {
      "cell_type": "code",
      "source": [
        "# float11/2 는 잘못된 문법임.\n",
        "# float는 함수이므로 ()들여쓰기가 항상 있어야 한다."
      ],
      "metadata": {
        "id": "KWZ5SYeHyGkN"
      },
      "execution_count": null,
      "outputs": []
    },
    {
      "cell_type": "markdown",
      "metadata": {
        "id": "hnQw3_TzrEbd"
      },
      "source": [
        "----"
      ]
    },
    {
      "cell_type": "markdown",
      "metadata": {
        "id": "ntCJGwpRrEbd"
      },
      "source": []
    },
    {
      "cell_type": "markdown",
      "metadata": {
        "id": "hwq_nq1trEbd"
      },
      "source": [
        "<span style=\"font-size:80%\">[문제3]<br><br></span>\n",
        "```type(3.0 + 7.0)의 결과로 올바른 것을 고르세요```\n",
        "\n",
        "1. 10\n",
        "2. 10.0\n",
        "3. int\n",
        "4. float"
      ]
    },
    {
      "cell_type": "markdown",
      "metadata": {
        "id": "-YvbQWRZrEbd"
      },
      "source": [
        "<span style=\"color:red\">답변</span>"
      ]
    },
    {
      "cell_type": "markdown",
      "metadata": {
        "id": "mwf52TAlrEbd"
      },
      "source": [
        "4"
      ]
    },
    {
      "cell_type": "markdown",
      "metadata": {
        "id": "93vJthChrEbd"
      },
      "source": [
        "----"
      ]
    },
    {
      "cell_type": "markdown",
      "metadata": {
        "id": "M9ZXGE7zrEbd"
      },
      "source": [
        "<span style=\"font-size:80%\">[문제4]<br><br></span>\n",
        "```float(5)의 결과로 올바른 것을 고르세요```\n",
        "\n",
        "1. 5\n",
        "2. `<class float>`\n",
        "3. 5.0\n",
        "4. type error"
      ]
    },
    {
      "cell_type": "markdown",
      "metadata": {
        "id": "Owg80I0BrEbd"
      },
      "source": [
        "<span style=\"color:red\">답변</span>"
      ]
    },
    {
      "cell_type": "markdown",
      "metadata": {
        "id": "B5NUpfa7rEbd"
      },
      "source": [
        "3"
      ]
    },
    {
      "cell_type": "markdown",
      "metadata": {
        "id": "jMrdf8dArEbe"
      },
      "source": [
        "----"
      ]
    },
    {
      "cell_type": "markdown",
      "metadata": {
        "id": "0e56oUp8rEbe"
      },
      "source": [
        "<span style=\"font-size:80%\">[문제5]<br><br></span>\n",
        "```int(13 / 2)의 결과로 올바른 것을 고르세요```\n",
        "\n",
        "1. 6.5\n",
        "2. 1\n",
        "3. 6\n",
        "4. 6.0"
      ]
    },
    {
      "cell_type": "markdown",
      "metadata": {
        "id": "whhZryOSrEbe"
      },
      "source": [
        "<span style=\"color:red\">답변</span>"
      ]
    },
    {
      "cell_type": "markdown",
      "metadata": {
        "id": "H88mn4nIrEbe"
      },
      "source": [
        "3"
      ]
    },
    {
      "cell_type": "markdown",
      "metadata": {
        "id": "flmtPOMSrEbe"
      },
      "source": [
        "----"
      ]
    },
    {
      "cell_type": "markdown",
      "metadata": {
        "id": "cv8x3U1erEbe"
      },
      "source": [
        "### Chapter07 : `Python 자료형인 str와 bool 개념 복습하기`"
      ]
    },
    {
      "cell_type": "markdown",
      "metadata": {
        "id": "M0uoQcsnrEbe"
      },
      "source": [
        "<span style=\"font-size:80%\">[문제1]<br><br></span>\n",
        "```변수 퀴즈에 들어있는 정답 \"어중이떠중이\"를 출력하기 위한 슬라이싱으로 올바른 것을 모두 골라주세요```\n",
        "\n",
        "퀴즈 = \"스님이 공중에 뜬다를 4글자로 말하면? 어중이떠중이\"\n",
        "\n",
        "1. print(퀴즈[22:27])\n",
        "2. print(퀴즈[22:])\n",
        "3. print(퀴즈[22:28])\n",
        "4. print(퀴즈[28])"
      ]
    },
    {
      "cell_type": "code",
      "source": [
        "퀴즈 = \"스님이 공중에 뜬다를 4글자로 말하면? 어중이떠중이\"\n",
        "\n",
        "print(퀴즈[22:27])"
      ],
      "metadata": {
        "id": "ywd_lAXvzzbt",
        "outputId": "95ad0079-479f-4a49-d6dd-18bd942ba0bb",
        "colab": {
          "base_uri": "https://localhost:8080/"
        }
      },
      "execution_count": 9,
      "outputs": [
        {
          "output_type": "stream",
          "name": "stdout",
          "text": [
            "어중이떠중\n"
          ]
        }
      ]
    },
    {
      "cell_type": "code",
      "source": [
        "퀴즈 = \"스님이 공중에 뜬다를 4글자로 말하면? 어중이떠중이\"\n",
        "print(퀴즈[22:])"
      ],
      "metadata": {
        "id": "HR16RKBVz2-m",
        "outputId": "ccdf413e-ea3b-4e82-c7a0-8185060b8d45",
        "colab": {
          "base_uri": "https://localhost:8080/"
        }
      },
      "execution_count": 13,
      "outputs": [
        {
          "output_type": "stream",
          "name": "stdout",
          "text": [
            "어중이떠중이\n"
          ]
        }
      ]
    },
    {
      "cell_type": "code",
      "source": [
        "퀴즈 = \"스님이 공중에 뜬다를 4글자로 말하면? 어중이떠중이\"\n",
        "print(퀴즈[22:28])"
      ],
      "metadata": {
        "id": "5Yk0zesEz7fP",
        "outputId": "afb0961a-f9e1-4c6b-de44-e44a53083ceb",
        "colab": {
          "base_uri": "https://localhost:8080/"
        }
      },
      "execution_count": 11,
      "outputs": [
        {
          "output_type": "stream",
          "name": "stdout",
          "text": [
            "어중이떠중이\n"
          ]
        }
      ]
    },
    {
      "cell_type": "code",
      "source": [
        "퀴즈 = \"스님이 공중에 뜬다를 4글자로 말하면? 어중이떠중이\"\n",
        "print(퀴즈[28])"
      ],
      "metadata": {
        "id": "UZnCBAoZz8TM",
        "outputId": "7883b07d-98f6-4d38-f81b-2ecbfdd3a188",
        "colab": {
          "base_uri": "https://localhost:8080/",
          "height": 190
        }
      },
      "execution_count": 12,
      "outputs": [
        {
          "output_type": "error",
          "ename": "IndexError",
          "evalue": "string index out of range",
          "traceback": [
            "\u001b[0;31m---------------------------------------------------------------------------\u001b[0m",
            "\u001b[0;31mIndexError\u001b[0m                                Traceback (most recent call last)",
            "\u001b[0;32m/tmp/ipython-input-3958375806.py\u001b[0m in \u001b[0;36m<cell line: 0>\u001b[0;34m()\u001b[0m\n\u001b[1;32m      1\u001b[0m \u001b[0m퀴즈\u001b[0m \u001b[0;34m=\u001b[0m \u001b[0;34m\"스님이 공중에 뜬다를 4글자로 말하면? 어중이떠중이\"\u001b[0m\u001b[0;34m\u001b[0m\u001b[0;34m\u001b[0m\u001b[0m\n\u001b[0;32m----> 2\u001b[0;31m \u001b[0mprint\u001b[0m\u001b[0;34m(\u001b[0m\u001b[0m퀴즈\u001b[0m\u001b[0;34m[\u001b[0m\u001b[0;36m28\u001b[0m\u001b[0;34m]\u001b[0m\u001b[0;34m)\u001b[0m\u001b[0;34m\u001b[0m\u001b[0;34m\u001b[0m\u001b[0m\n\u001b[0m",
            "\u001b[0;31mIndexError\u001b[0m: string index out of range"
          ]
        }
      ]
    },
    {
      "cell_type": "markdown",
      "metadata": {
        "id": "iO_GVXpLrEbe"
      },
      "source": [
        "<span style=\"color:red\">답변</span>"
      ]
    },
    {
      "cell_type": "markdown",
      "metadata": {
        "id": "hqTZuQsKrEbe"
      },
      "source": [
        "2, 3"
      ]
    },
    {
      "cell_type": "code",
      "source": [
        "# 문자열[시작인덱스:끝인덱스]\n",
        "# 시작인덱스 : 포함\n",
        "# 끝인덱스 : 미포함 (즉, 끝인덱스 전까지의 문자까지 도출 됨.)"
      ],
      "metadata": {
        "id": "T_Skpz-81iA2"
      },
      "execution_count": null,
      "outputs": []
    },
    {
      "cell_type": "markdown",
      "metadata": {
        "id": "1x-v9LZQrEbe"
      },
      "source": [
        "----"
      ]
    },
    {
      "cell_type": "markdown",
      "metadata": {
        "id": "NtRxtc6OrEbf"
      },
      "source": [
        "<span style=\"font-size:80%\">[문제2]<br><br></span>\n",
        "```과일 변수에 들어있는 p의 개수를 구하는 코드로 올바른 것을 골라주세요```\n",
        "\n",
        "과일 = \"apple\"\n",
        "\n",
        "1. 과일.count('p')\n",
        "2. count(과일, 'p')\n",
        "3. 과일.index('p')\n",
        "4. count('p')"
      ]
    },
    {
      "cell_type": "markdown",
      "metadata": {
        "id": "oharCJ7hrEbf"
      },
      "source": [
        "<span style=\"color:red\">답변</span>"
      ]
    },
    {
      "cell_type": "markdown",
      "metadata": {
        "id": "q6wUnQ63rEbf"
      },
      "source": [
        "1"
      ]
    },
    {
      "cell_type": "code",
      "source": [
        "# count()는 괄호안에 지정한 문자가 몇 번 등장하는지 세어 준다.\n",
        "# count()는 문자열 메세지이므로, 문자열 뒤에 .을 붙여줘야한다.\n",
        "# count()는 함수가 아니라 문자열이 가진 기능(메서드) 이므로 반드시 \"문자열.count(찾을문자)\" 형태로 써야 해요\n",
        "# index()는 문자가 처음등장하는 위치를 알려준다."
      ],
      "metadata": {
        "id": "qMrZePfhIFky",
        "outputId": "0a8787ac-4c7b-4c59-e52e-e309d95ca09c",
        "colab": {
          "base_uri": "https://localhost:8080/",
          "height": 86
        }
      },
      "execution_count": 18,
      "outputs": [
        {
          "output_type": "execute_result",
          "data": {
            "text/plain": [
              "'\\ncount()는 괄호안에 지정한 문자가 몇 번 등장하는지 세어 준다.\\ncount()는 문자열 메세지이므로, 문자열 뒤에 .을 붙여줘야한다.\\ncount()는 함수가 아니라 문자열이 가진 기능(메서드) 이므로 반드시 \"문자열.count(찾을문자)\" 형태로 써야 해요\\nindex()는 문자가 처음등장하는 위치를 알려준다.\\n'"
            ],
            "application/vnd.google.colaboratory.intrinsic+json": {
              "type": "string"
            }
          },
          "metadata": {},
          "execution_count": 18
        }
      ]
    },
    {
      "cell_type": "markdown",
      "metadata": {
        "id": "7yEYkOI0rEbf"
      },
      "source": [
        "----"
      ]
    },
    {
      "cell_type": "markdown",
      "metadata": {
        "id": "cI-J4OzErEbf"
      },
      "source": [
        "<span style=\"font-size:80%\">[문제3]<br><br></span>\n",
        "``` bool 타입에 해당하는 것만 골라주세요```\n",
        "\n",
        "1. true\n",
        "2. True\n",
        "3. False\n",
        "4. 0\n",
        "5. 1"
      ]
    },
    {
      "cell_type": "markdown",
      "metadata": {
        "id": "ur1t8Qo0rEbf"
      },
      "source": [
        "<span style=\"color:red\">답변</span>"
      ]
    },
    {
      "cell_type": "markdown",
      "metadata": {
        "id": "KrX3evUQrEbf"
      },
      "source": [
        "2, 3"
      ]
    },
    {
      "cell_type": "markdown",
      "metadata": {
        "id": "ymPoelQ9rEbf"
      },
      "source": [
        "----"
      ]
    },
    {
      "cell_type": "markdown",
      "metadata": {
        "id": "OcLH78e6rEbf"
      },
      "source": [
        "<span style=\"font-size:80%\">[문제4]<br><br></span>\n",
        "```문자열의 길이를 구하는 방법으로 올바른 것을 고르세요```\n",
        "\n",
        "라라랜드 =  \"사람들은 다른 사람들의 열정에 끌리게 되어있어 자신이 잊은 걸 상기시켜 주니까\"\n",
        "\n",
        "1. 라라랜드.len()\n",
        "2. length(라라랜드)\n",
        "3. len(라라랜드)\n",
        "4. count(라라랜드)"
      ]
    },
    {
      "cell_type": "code",
      "source": [
        "라라랜드 = \"사람들은 다른 사람들의 열정에 끌리게 되어있어 자신이 잊은 걸 상기시켜 주니까\"\n",
        "len(라라랜드)"
      ],
      "metadata": {
        "id": "B3Z-jqz4K_Qp",
        "outputId": "08a78202-65b5-4c10-fa3c-414481789e8e",
        "colab": {
          "base_uri": "https://localhost:8080/"
        }
      },
      "execution_count": 17,
      "outputs": [
        {
          "output_type": "execute_result",
          "data": {
            "text/plain": [
              "43"
            ]
          },
          "metadata": {},
          "execution_count": 17
        }
      ]
    },
    {
      "cell_type": "markdown",
      "metadata": {
        "id": "igDXstxarEbf"
      },
      "source": [
        "<span style=\"color:red\">답변</span>"
      ]
    },
    {
      "cell_type": "markdown",
      "metadata": {
        "id": "9ioGn304rEbf"
      },
      "source": [
        "2"
      ]
    },
    {
      "cell_type": "markdown",
      "metadata": {
        "id": "V5P9xVtArEbf"
      },
      "source": [
        "----"
      ]
    },
    {
      "cell_type": "markdown",
      "metadata": {
        "id": "D7WnDC3lrEbf"
      },
      "source": [
        "### Chapter08 : `비교 연산자와 논리 연산자에 대해 복습해보기`"
      ]
    },
    {
      "cell_type": "markdown",
      "metadata": {
        "id": "AKlpfLgirEbf"
      },
      "source": [
        "<span style=\"font-size:80%\">[문제1]<br><br></span>\n",
        "```비교 연산자의 결과로 올바르지 않은 것을 골라주세요```\n",
        "\n",
        "1. 8 == 2 * 4&emsp;&emsp;결과 : True\n",
        "2. 4 != 2 + 2&emsp;&emsp;결과 : False\n",
        "3. 2 * 3 is 3 + 3&emsp;&emsp;결과 : True\n",
        "4. 8 is 4 * 2.0&emsp;&emsp;결과 : True\n",
        "5. 5 is 6 - 1.1&emsp;&emsp;결과 : False"
      ]
    },
    {
      "cell_type": "markdown",
      "metadata": {
        "id": "J9Esx1ULrEbf"
      },
      "source": [
        "<span style=\"color:red\">답변</span>"
      ]
    },
    {
      "cell_type": "markdown",
      "metadata": {
        "id": "vbyMI6pBrEbf"
      },
      "source": [
        "4"
      ]
    },
    {
      "cell_type": "markdown",
      "metadata": {
        "id": "N8yDJEsdrEbf"
      },
      "source": [
        "----"
      ]
    },
    {
      "cell_type": "markdown",
      "metadata": {
        "id": "3ZB8fuzqrEbf"
      },
      "source": [
        "<span style=\"font-size:80%\">[문제2]<br><br></span>\n",
        "```\"x는 5와 같지 않다\"라는 뜻과 동일한 것을 골라주세요```\n",
        "\n",
        "1. x <= 5\n",
        "2. x != 5\n",
        "3. x & 5\n",
        "4. x ! 5"
      ]
    },
    {
      "cell_type": "markdown",
      "metadata": {
        "id": "g0ySG0qbrEbg"
      },
      "source": [
        "<span style=\"color:red\">답변</span>"
      ]
    },
    {
      "cell_type": "code",
      "execution_count": null,
      "metadata": {
        "vscode": {
          "languageId": "plaintext"
        },
        "id": "sB62bFEFrEbg"
      },
      "outputs": [],
      "source": [
        "2"
      ]
    },
    {
      "cell_type": "markdown",
      "metadata": {
        "id": "MlqRQL7trEbg"
      },
      "source": [
        "----"
      ]
    },
    {
      "cell_type": "markdown",
      "metadata": {
        "id": "jrphFnjgrEbg"
      },
      "source": [
        "<span style=\"font-size:80%\">[문제3]<br><br></span>\n",
        "```비교 연산자와 논리 연산자의 결과로 올바른 것을 모두 골라주세요```\n",
        "\n",
        "x = 10\n",
        "y = 20\n",
        "\n",
        "1. x == 10 or y == 10  결과 : False\n",
        "2. x >= 10 and y < 30  결과 : True\n",
        "3. not x == 10 결과 : False\n",
        "4. y != 20 or x != 10  결과 : True\n",
        "5. not y != 20 and x > 5  결과 : False"
      ]
    },
    {
      "cell_type": "markdown",
      "metadata": {
        "id": "Umpz4_RwrEbg"
      },
      "source": [
        "<span style=\"color:red\">답변</span>"
      ]
    },
    {
      "cell_type": "markdown",
      "metadata": {
        "id": "EKP2jKuVrEbg"
      },
      "source": [
        "2, 3"
      ]
    },
    {
      "cell_type": "markdown",
      "metadata": {
        "id": "XA9WQ74YrEbg"
      },
      "source": [
        "----"
      ]
    },
    {
      "cell_type": "markdown",
      "metadata": {
        "id": "UVD9rxZKrEbg"
      },
      "source": [
        "<span style=\"font-size:80%\">[문제4]<br><br></span>\n",
        "```'치맥' and True의 결과로 올바른 것을 골라주세요```\n",
        "\n",
        "1. False\n",
        "2. 아묻따\n",
        "3. True\n",
        "4. 치맥True"
      ]
    },
    {
      "cell_type": "markdown",
      "metadata": {
        "id": "a2vH03MorEbg"
      },
      "source": [
        "<span style=\"color:red\">답변</span>"
      ]
    },
    {
      "cell_type": "markdown",
      "metadata": {
        "id": "b6bol7kurEbg"
      },
      "source": []
    },
    {
      "cell_type": "markdown",
      "metadata": {
        "id": "8RB4MbYUrEbg"
      },
      "source": [
        "----"
      ]
    },
    {
      "cell_type": "markdown",
      "metadata": {
        "id": "yT7aaZf_rEbg"
      },
      "source": [
        "<span style=\"font-size:80%\">[문제5]<br><br></span>\n",
        "```논리 연산의 결과를 뒤집는 연산자를 골라주세요```\n",
        "\n",
        "1. is not\n",
        "2. not\n",
        "3. !=\n",
        "4. end\n",
        "5. and\n",
        "6. or"
      ]
    },
    {
      "cell_type": "markdown",
      "metadata": {
        "id": "azottTlzrEbg"
      },
      "source": [
        "<span style=\"color:red\">답변</span>"
      ]
    },
    {
      "cell_type": "markdown",
      "metadata": {
        "id": "6KSVfi2LrEbg"
      },
      "source": [
        "2"
      ]
    }
  ],
  "metadata": {
    "language_info": {
      "name": "python"
    },
    "colab": {
      "provenance": []
    },
    "kernelspec": {
      "name": "python3",
      "display_name": "Python 3"
    }
  },
  "nbformat": 4,
  "nbformat_minor": 0
}
