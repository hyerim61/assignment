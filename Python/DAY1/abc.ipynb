{
 "cells": [
  {
   "cell_type": "markdown",
   "metadata": {
    "id": "KROTggfmi9G6"
   },
   "source": [
    "<span style=\"font-size:100%\">\n",
    "\n",
    "수업은 모두 열심히 들으셨나요?\n",
    "\n",
    "간혹 강의에서 언급되지 않은 내용이 문제로 나올 수 있습니다.<br>\n",
    "그럴땐 강의 내용 외 문제는 구글링을 통해 해결해주세요<br></span>\n",
    "<span style=\"font-size:80%\">\n",
    "(구글링 또한 개발자가 갖쳐야할 역량 중에 하나랍니다 😊)\n",
    "</span>\n",
    "\n",
    "---"
   ]
  },
  {
   "cell_type": "markdown",
   "metadata": {
    "id": "xx8M3HFvi9G7"
   },
   "source": [
    "<span style=\"font-size:80%\">[문제1]<br><br></span>\n",
    "```다음 중 14 % 3의 계산 결과로 옳은 것을 고르세요```\n",
    "\n",
    "1. 4\n",
    "2. 4.6\n",
    "3. 2\n",
    "4. 1"
   ]
  },
  {
   "cell_type": "markdown",
   "metadata": {
    "id": "dLwyrDvLi9G7"
   },
   "source": [
    "<span style=\"color:red\">답변</span>"
   ]
  },
  {
   "cell_type": "markdown",
   "metadata": {},
   "source": [
    "<aside>\n",
    "🔑 정답 : 3 번\n",
    "\n",
    "파이썬에서 \"%\" 연산자는 나머지를 구하는 연산자입니다. \n",
    "따라서 \"14 % 3\"의 결과는 14를 3으로 나누었을 때의 나머지인 2가 됩니다.\n",
    "\n",
    "그 외 파이썬의 기본적인 산술 연산자는 다음과 같습니다\n",
    "\n",
    "- 덧셈(+): 두 숫자를 더합니다. 예: 14 + 3은 17입니다.\n",
    "- 뺄셈(-): 두 숫자를 뺍니다. 예: 14 - 3는 11입니다.\n",
    "- 곱셈(* ): 두 숫자를 곱합니다. 예: 14 * 3*는  42입니다.\n",
    "- 나눗셈\n",
    "    - 나눗셈(/): 두 숫자를 나눕니다. 이 연산자는 항상 실수를 반환합니다. 예: 14 / 3은 4.66666….입니다.\n",
    "    - 정수 나눗셈(//): 두 숫자를 나누되, 결과를 정수로 내림합니다. 예: 14 // 3는 4입니다.\n",
    "    - 나머지(%): 두 숫자를 나눈 후의 나머지를 반환합니다. 예: 14 % 3은 2입니다.\n",
    "- 거듭제곱(**): 왼쪽 숫자를 오른쪽 숫자만큼 거듭제곱합니다. 예: 14 ** 3는 2744입니다.\n",
    "</aside>"
   ]
  },
  {
   "cell_type": "markdown",
   "metadata": {
    "id": "QjcV4kwAi9G8"
   },
   "source": [
    "----"
   ]
  },
  {
   "cell_type": "markdown",
   "metadata": {
    "id": "x4upTgt9i9G8"
   },
   "source": [
    "<span style=\"font-size:80%\">[문제2]<br><br></span>\n",
    "```계산식의 결과가 실수인 것을 모두 고르세요```\n",
    "\n",
    "1. float(17//3)\n",
    "2. int(10)-9\n",
    "3. float11/2\n",
    "4. float(10)-2"
   ]
  },
  {
   "cell_type": "markdown",
   "metadata": {
    "id": "ZWkGD_bri9G8"
   },
   "source": [
    "<span style=\"color:red\">답변</span>"
   ]
  },
  {
   "cell_type": "markdown",
   "metadata": {},
   "source": [
    "<aside>\n",
    "🔑 정답 : float(17 // 3) , float(10) - 2\n",
    "<br>\n",
    "\n",
    "정답과 같이 파이썬에서 실수가 포함된 산술 연산자의 결과로 실수로 나오는 이유는 연산의 정확성을 유지하고, 실제 수학적 연산과 일치시키기 위해서 입니다.\n",
    "\n",
    "특히 나눗셈 연산에서 이러한 특징이 두드러집니다.\n",
    "\n",
    "파이썬의 산술 연산자 중 나눗셈(/)을 사용하면, 결과는 항상 실수(float)로 반환됩니다. \n",
    "\n",
    "이는 나눗셈의 결과가 소수점 아래의 값을 가질 수 있기 때문입니다.\n",
    "\n",
    "예를 들어, 15 / 3의 계산하면, 결과는 5입니다. 여기서 `/` 연산자는 실수 나눗셈을 수행하므로, 결과는 실수로 반환됩니다.\n",
    "\n",
    "추가로, 실수와 정수를 함께 연산할 경우에도 결과는 실수입니다. 예를 들어, 15.0 + 2의 결과는 17.0입니다. 이렇게 파이썬에서는 실수와 정수의 연산을 허용하며, 이 경우 결과는 항상 실수로 반환됩니다.\n",
    "\n",
    "</aside>"
   ]
  },
  {
   "cell_type": "markdown",
   "metadata": {
    "id": "gMzSY_oXbQGs"
   },
   "source": [
    "----"
   ]
  },
  {
   "cell_type": "markdown",
   "metadata": {
    "id": "UQDNTyWGbQGs"
   },
   "source": [
    "<span style=\"font-size:80%\">[문제3]<br><br></span>\n",
    "```Python에서 \"#\"이 의미하는 것은 무엇인지 설명해주세요```"
   ]
  },
  {
   "cell_type": "markdown",
   "metadata": {
    "id": "6msOT5pNbQGt"
   },
   "source": [
    "<span style=\"color:red\">답변</span>"
   ]
  },
  {
   "cell_type": "markdown",
   "metadata": {},
   "source": [
    "<aside>\n",
    "🔑 정답 : 파이썬에서 #(샵은) 주석을 나타냅니다.\n",
    "\n",
    "<br>\n",
    "\n",
    "**기호 뒤에 오는 모든 텍스트는 파이썬 인터프리터에 의해 무시되며, 코드의 실행에는 영향을 미치지 않습니다.\n",
    "주석은 코드를 이해하고 유지 관리하는 데 도움이 되는 설명이나 메모를 추가하는 데 사용됩니다.**\n",
    "\n",
    "```python\n",
    "# 이것은 주석입니다. 이 줄은 실행되지 않습니다.\n",
    "oz = \"수강생 여러분 화이팅\"  # 변수 oz에 수강생 화이팅이라는 문자열을 할당합니다.\n",
    "```\n",
    "\n",
    "추가로 여러 줄 주석을 작성하려면 삼중 따옴표(\"\"\" 또는 ''')를 사용합니다. 이 기호들 사이에 있는 모든 텍스트는 주석으로 간주됩니다. \n",
    "\n",
    "```python\n",
    "\"\"\"\n",
    "여러 줄로\n",
    "주석을 작성하는 방법은\n",
    "이렇게 하는 겁니다.\n",
    "\"\"\"\n",
    "```\n",
    "\n",
    "그러나 삼중 따옴표는 원래 문자열을 여러 줄에 걸쳐 작성하는 데 사용되는 구문입니다. \n",
    "\n",
    "따라서 이를 주석으로 사용하는 것은 파이썬 커뮤니티에서 의견이 분분한 부분이기도 합니다. 주로 함수나 클래스의 설명(docstring)을 작성하는 데 사용됩니다.\n",
    "\n",
    "따라서 여러 줄 주석을 작성할 때는 보통 한 줄 주석을 여러 번 사용하는 방법을 선호합니다:\n",
    "\n",
    "```python\n",
    "#여러 줄로\n",
    "#주석을 작성하는 방법은\n",
    "#이렇게 하는 겁니다.\n",
    "```\n",
    "\n",
    "</aside>\n"
   ]
  },
  {
   "cell_type": "markdown",
   "metadata": {
    "id": "xHKNiO0bgKVA"
   },
   "source": [
    "----"
   ]
  },
  {
   "cell_type": "markdown",
   "metadata": {
    "id": "KHUlSb5li9G9"
   },
   "source": [
    "[문제4]<br><br>\n",
    "거듭제곱을 올바르게 표현한 식을 골라주세요\n",
    "\n",
    "1. 2 ^^ 3\n",
    "2. 2 ** 3\n",
    "3. 2 ^* 3\n",
    "4. 2 ~~ 3"
   ]
  },
  {
   "cell_type": "markdown",
   "metadata": {
    "id": "V3pewPtDi9G9"
   },
   "source": [
    "<span style=\"color:red\">답변</span>"
   ]
  },
  {
   "cell_type": "markdown",
   "metadata": {},
   "source": [
    "<aside>\n",
    "🔑 정답 : 2 ** 3\n",
    "\n",
    "파이썬에서 거듭제곱을 표현하기 위해선 `**` 연산자를 사용합니다. 따라서 이를 이용해 거듭제곱을 올바르게 표현한 식은 다음과 같습니다\n",
    "\n",
    "```python\n",
    "x = 2 ** 3\n",
    "```\n",
    "\n",
    "이 식은 2의 3제곱, 즉 2 * 2 * 2를 계산하여 그 결과를 변수 x에 할당하는 것을 나타냅니다. 따라서 이 식을 실행하면 x의 값은 \n",
    "8이 됩니다.\n",
    "\n",
    "</aside>"
   ]
  },
  {
   "cell_type": "markdown",
   "metadata": {
    "id": "EuP_qXC0i9G-"
   },
   "source": [
    "----"
   ]
  },
  {
   "cell_type": "markdown",
   "metadata": {
    "id": "z1RkivHXi9G-"
   },
   "source": [
    "[문제5]<br><br>\n",
    "몫과 나머지를 함께 구하기 위해 사용할 수 있는 표현을 골라주세요\n",
    "\n",
    "1. //\n",
    "2. divmod()\n",
    "3. %\n",
    "4. /"
   ]
  },
  {
   "cell_type": "markdown",
   "metadata": {
    "id": "DP88gMUoi9G-"
   },
   "source": [
    "<span style=\"color:red\">답변</span>"
   ]
  },
  {
   "cell_type": "markdown",
   "metadata": {
    "id": "FzxA9v7Ui9G-"
   },
   "source": [
    "<aside>\n",
    "🔑 정답 : divmod()\n",
    "\n",
    "파이썬에서 몫과 나머지를 함께 구하기 위해서는 `divmod()` 함수를 사용할 수 있습니다. \n",
    "\n",
    "이 함수는 두 개의 인자를 받아 첫 번째 인자를 두 번째 인자로 나눈 몫과 나머지를 **튜플 형태**로 반환합니다.\n",
    "\n",
    "예를 들어, 12을 5로 나눈 몫과 나머지를 구하려면 다음과 같이 사용할 수 있습니다\n",
    "\n",
    "```python\n",
    "#quotient = q(몫) / remainder = r(나머지)\n",
    "q, r = divmod(12, 5)\n",
    "```\n",
    "\n",
    "이 코드를 실행하면, `quotient`에는 2이, `remainder`에는 2가 저장됩니다. 즉, 12을 5로 나눈 몫은 2이고 나머지는 2입니다.\n",
    "\n",
    "</aside>"
   ]
  },
  {
   "cell_type": "markdown",
   "metadata": {
    "id": "Z0UpmMm4YZnG"
   },
   "source": [
    "----"
   ]
  },
  {
   "cell_type": "markdown",
   "metadata": {
    "id": "XeLb5lMmYZnH"
   },
   "source": [
    "[문제6]<br><br>\n",
    "파이썬에서 한 줄 주석을 표현하는 방법은 무엇인가요?\n",
    "\n",
    "1. `//`\n",
    "2. `<!-- -- >`\n",
    "3. `#`\n",
    "\n",
    "4. `/* */`"
   ]
  },
  {
   "cell_type": "markdown",
   "metadata": {
    "id": "GgXXqnqEYZnI"
   },
   "source": [
    "<span style=\"color:red\">답변</span>"
   ]
  },
  {
   "cell_type": "markdown",
   "metadata": {},
   "source": [
    "<aside> 🔑 정답 : #\n",
    "\n",
    "<br>\n",
    "파이썬에서는 # 기호를 사용하여 한 줄 주석을 작성할 수 있습니다.\n",
    "\n",
    "주석은 코드에 대한 설명을 달거나, 실행되지 않도록 막고 싶은 코드를 표시할 때 사용합니다.\n",
    "\n",
    "예를 들어:\n",
    "\n",
    "```python\n",
    "# 이 코드는 변수 x에 10을 할당합니다\n",
    "x = 10\n",
    "````\n",
    "\n",
    "이렇게 # 뒤에 오는 내용은 모두 주석으로 처리되며, 파이썬 인터프리터는 실행하지 않습니다.\n",
    "\n",
    "</aside>"
   ]
  },
  {
   "cell_type": "markdown",
   "metadata": {
    "id": "Yh95yxZsYZ-8"
   },
   "source": [
    "----"
   ]
  },
  {
   "cell_type": "markdown",
   "metadata": {
    "id": "y4qg-sGlYZ-9"
   },
   "source": [
    "[문제7]<br><br>\n",
    "다음 중 여러 줄 주석처럼 사용할 수 있는 표현은?\n",
    "\n",
    "1. `# 주석1 \\n # 주석2`\n",
    "2. `/* 주석 */`\n",
    "3. `\"\"\" 여러 줄 \"\"\"`\n",
    "4. `// 여러 줄`"
   ]
  },
  {
   "cell_type": "markdown",
   "metadata": {
    "id": "sK4zXr3fYZ-9"
   },
   "source": [
    "<span style=\"color:red\">답변</span>"
   ]
  },
  {
   "cell_type": "markdown",
   "metadata": {},
   "source": [
    "<aside> 🔑 정답 : \"\"\" 여러 줄 \"\"\"\n",
    "\n",
    "<br>\n",
    "파이썬에는 여러 줄 주석을 위한 전용 문법은 없지만, \"\"\" (큰따옴표 3개) 또는 ''' (작은따옴표 3개)를 사용하여 여러 줄 문자열을 만들고, 이를 주석처럼 사용할 수 있습니다.\n",
    "\n",
    "예시:\n",
    "\n",
    "```python\n",
    "\n",
    "\"\"\"\n",
    "이 부분은 여러 줄 주석처럼 사용됩니다.\n",
    "문서화나 설명 용도로 자주 사용됩니다.\n",
    "\"\"\"\n",
    "print(\"Hello!\")\n",
    "\n",
    "```\n",
    "💡 주의: \"\"\"를 이용한 표현은 실제로는 문자열이지만, 변수에 할당하지 않으면 코드 실행 시 무시되기 때문에 주석처럼 작동합니다.\n",
    "\n",
    "</aside>"
   ]
  },
  {
   "cell_type": "markdown",
   "metadata": {
    "id": "t2uhmA8gYaM0"
   },
   "source": [
    "----"
   ]
  },
  {
   "cell_type": "markdown",
   "metadata": {
    "id": "xiFkZx8DYaM1"
   },
   "source": [
    "[문제8]<br><br>\n",
    "다음 중 print 함수의 올바른 사용 예는?\n",
    "\n",
    "1. `print \"Hello\"`\n",
    "2. `print(Hello)`\n",
    "3. `print(\"Hello\")`\n",
    "4. `print{'Hello'}`"
   ]
  },
  {
   "cell_type": "markdown",
   "metadata": {
    "id": "Bp36EWWyYaM1"
   },
   "source": [
    "<span style=\"color:red\">답변</span>"
   ]
  },
  {
   "cell_type": "markdown",
   "metadata": {},
   "source": [
    "<aside> 🔑 정답 : print(\"Hello\")\n",
    "\n",
    "<br>\n",
    "파이썬 3에서는 print는 함수이기 때문에 괄호 () 안에 출력할 내용을 적어야 합니다.\n",
    "문자열은 반드시 큰따옴표 \" \" 또는 작은따옴표 ' '로 감싸야 하며, 아래와 같이 사용합니다:\n",
    "\n",
    "```python\n",
    "\n",
    "print(\"Hello\")\n",
    "\n",
    "```\n",
    "❌ print \"Hello\" → 파이썬 2 방식, 파이썬 3에서는 문법 오류\n",
    "\n",
    "❌ print(Hello) → Hello는 문자열이 아니므로 변수로 인식되어 오류 발생\n",
    "\n",
    "❌ print{'Hello'} → print는 함수이므로 ()를 사용해야 하며, {}는 딕셔너리에 사용되는 문법입니다."
   ]
  },
  {
   "cell_type": "markdown",
   "metadata": {
    "id": "JYpYKk2eYaWD"
   },
   "source": [
    "----"
   ]
  },
  {
   "cell_type": "markdown",
   "metadata": {
    "id": "BGETnyW1YaWD"
   },
   "source": [
    "[문제9]<br><br>\n",
    "파이썬에서 들여쓰기(indentation)가 필요한 문법이 아닌 것은?\n",
    "\n",
    "1. if 조건문\n",
    "2. 함수 정의\n",
    "3. 반복문\n",
    "4. 변수 선언"
   ]
  },
  {
   "cell_type": "markdown",
   "metadata": {
    "id": "WWhthnFBYaWD"
   },
   "source": [
    "<span style=\"color:red\">답변</span>"
   ]
  },
  {
   "cell_type": "markdown",
   "metadata": {},
   "source": [
    "<aside> 🔑 정답 : 변수 선언\n",
    "\n",
    "<br>\n",
    "파이썬에서는 코드 블록을 구분할 때 중괄호 {} 대신 들여쓰기(공백 또는 탭)를 사용합니다.\n",
    "조건문, 반복문, 함수 정의 등은 모두 들여쓰기가 필수입니다.\n",
    "\n",
    "하지만 변수 선언은 단순히 값을 할당하는 문장이기 때문에 들여쓰기가 필요하지 않습니다.\n",
    "\n",
    "```python\n",
    "\n",
    "# 들여쓰기가 필요한 경우 예시\n",
    "if True:\n",
    "    print(\"조건문 안\")\n",
    "\n",
    "def my_function():\n",
    "    print(\"함수 안\")\n",
    "\n",
    "for i in range(3):\n",
    "    print(i)\n",
    "\n",
    "# 들여쓰기가 필요 없는 변수 선언\n",
    "x = 10\n",
    "name = \"Alice\"\n",
    "\n",
    "```\n",
    "</aside>"
   ]
  },
  {
   "cell_type": "markdown",
   "metadata": {
    "id": "PJC33msFYafF"
   },
   "source": [
    "----"
   ]
  },
  {
   "cell_type": "markdown",
   "metadata": {
    "id": "F3aZ8_leYafG"
   },
   "source": [
    "[문제10]<br><br>\n",
    "다음 중 연산 결과가 정수(`int`)가 아닌 것은?\n",
    "\n",
    "1. `10 // 3`\n",
    "2. `int(5.7)`\n",
    "3. `float(3)`\n",
    "4. `7 % 2`"
   ]
  },
  {
   "cell_type": "markdown",
   "metadata": {
    "id": "RCZ-BYRlYafG"
   },
   "source": [
    "<span style=\"color:red\">답변</span>"
   ]
  },
  {
   "cell_type": "markdown",
   "metadata": {},
   "source": [
    "<aside> 🔑 정답 : float(3)\n",
    "\n",
    "<br>\n",
    "\n",
    "\n",
    "10 // 3은 몫 연산자로 결과가 정수 3입니다.\n",
    "\n",
    "int(5.7)은 5로 변환하여 정수입니다.\n",
    "\n",
    "float(3)은 실수형 3.0을 반환하므로 정수가 아닙니다.\n",
    "\n",
    "7 % 2는 나머지 연산자로 결과가 정수 1입니다.\n",
    "\n",
    "</aside>"
   ]
  },
  {
   "cell_type": "markdown",
   "metadata": {
    "id": "hYccJ2UJYanq"
   },
   "source": [
    "----"
   ]
  },
  {
   "cell_type": "markdown",
   "metadata": {
    "id": "lDhPMH5MYanr"
   },
   "source": [
    "[문제11]<br><br>\n",
    "다음 중 출력 결과가 1.5가 되는 코드를 고르세요.\n",
    "\n",
    "1. `print(3 // 2)`\n",
    "2. `print(3 / 2)`\n",
    "3. `print(3 % 2)`\n",
    "4. `print(int(3 / 2))`"
   ]
  },
  {
   "cell_type": "markdown",
   "metadata": {
    "id": "Dzr_NF42Yanr"
   },
   "source": [
    "<span style=\"color:red\">답변</span>"
   ]
  },
  {
   "cell_type": "markdown",
   "metadata": {},
   "source": [
    "<aside> 🔑 정답 : print(3 / 2)\n",
    "\n",
    "<br>\n",
    "\n",
    "3 / 2는 일반 나눗셈으로 결과가 1.5인 실수입니다.\n",
    "\n",
    "3 // 2는 몫 연산자로 결과가 1(정수)입니다.\n",
    "\n",
    "3 % 2는 나머지 연산자로 결과가 1입니다.\n",
    "\n",
    "int(3 / 2)는 1.5를 정수로 변환하여 1이 됩니다.\n",
    "\n",
    "</aside>"
   ]
  },
  {
   "cell_type": "markdown",
   "metadata": {
    "id": "Ttlm48mhYawj"
   },
   "source": [
    "----"
   ]
  },
  {
   "cell_type": "markdown",
   "metadata": {
    "id": "0iRS1iSJYawk"
   },
   "source": [
    "[문제12]<br><br>\n",
    "다음 중 올바르게 float 형으로 변환한 예는?\n",
    "\n",
    "1. float(7)\n",
    "2. float(\"3.14\")\n",
    "3. float(\"abc\")\n",
    "4. float(3+2)"
   ]
  },
  {
   "cell_type": "markdown",
   "metadata": {
    "id": "niYKuCuoYawk"
   },
   "source": [
    "<span style=\"color:red\">답변</span>"
   ]
  },
  {
   "cell_type": "markdown",
   "metadata": {},
   "source": [
    "<aside> 🔑 정답 : 1, 2, 4 \n",
    "\n",
    "<br>\n",
    "파이썬에서 float() 함수는 다음과 같은 값을 실수(float)로 변환할 수 있습니다:\n",
    "\n",
    "정수 → 실수: float(7) → 7.0\n",
    "\n",
    "문자열 형태의 숫자 → 실수: float(\"3.14\") → 3.14\n",
    "\n",
    "계산식의 결과 (정수) → 실수: float(3+2) → 5.0\n",
    "\n",
    "하지만 \"abc\" 같은 숫자가 아닌 문자열은 변환할 수 없으므로 오류가 발생합니다.\n",
    "\n",
    "```python\n",
    "\n",
    "print(float(7))         # 7.0\n",
    "print(float(\"3.14\"))    # 3.14\n",
    "print(float(3+2))       # 5.0\n",
    "print(float(\"abc\"))     # ❌ ValueError: could not convert string to float\n",
    "\n",
    "```\n",
    "</aside>\n"
   ]
  },
  {
   "cell_type": "markdown",
   "metadata": {
    "id": "jij7086vYa4j"
   },
   "source": [
    "----"
   ]
  },
  {
   "cell_type": "markdown",
   "metadata": {
    "id": "sTJO_IoVYa4k"
   },
   "source": [
    "[문제13]<br><br>\n",
    "divmod(17, 4)의 반환값은?\n",
    "\n",
    "1. (4, 1)\n",
    "2. (4, 2)\n",
    "3. 4.25\n",
    "4. 1"
   ]
  },
  {
   "cell_type": "markdown",
   "metadata": {
    "id": "PZM6DtFpYa4k"
   },
   "source": [
    "<span style=\"color:red\">답변</span>"
   ]
  },
  {
   "cell_type": "markdown",
   "metadata": {},
   "source": [
    "<aside> 🔑 정답 : (4, 1)\n",
    "\n",
    "<br>\n",
    "divmod(a, b) 함수는 두 숫자 a를 b로 나눈 몫과 나머지를 튜플 형태로 반환합니다.\n",
    "divmod(17, 4)를 계산하면,\n",
    "\n",
    "몫: 17 ÷ 4 = 4\n",
    "\n",
    "나머지: 17 % 4 = 1\n",
    "\n",
    "따라서 결과는 (4, 1)입니다.\n",
    "\n",
    "```python\n",
    "result = divmod(17, 4)\n",
    "print(result)  # (4, 1)\n",
    "```\n",
    "\n",
    "</aside>"
   ]
  },
  {
   "cell_type": "markdown",
   "metadata": {
    "id": "TqIU3JDvYbAj"
   },
   "source": [
    "----"
   ]
  },
  {
   "cell_type": "markdown",
   "metadata": {
    "id": "flEcl053YbAk"
   },
   "source": [
    "[문제14]<br><br>\n",
    "다음 중 pow(2, 3)과 같은 결과를 내는 식은?\n",
    "\n",
    "1. 2 * 3\n",
    "2. 2 ** 3\n",
    "3. 2 ^ 3\n",
    "4. 2 // 3"
   ]
  },
  {
   "cell_type": "markdown",
   "metadata": {
    "id": "SpAF3ObCYbAk"
   },
   "source": [
    "<span style=\"color:red\">답변</span>"
   ]
  },
  {
   "cell_type": "markdown",
   "metadata": {},
   "source": [
    "<aside> 🔑 정답 : 2 ** 3\n",
    "\n",
    "<br>\n",
    "pow(a, b)는 a의 b제곱을 계산하는 함수입니다.\n",
    "따라서 pow(2, 3)은 2 ** 3과 같으며 결과는 8입니다.\n",
    "\n",
    "```python\n",
    "\n",
    "print(pow(2, 3))  # 8\n",
    "print(2 ** 3)     # 8\n",
    "\n",
    "```\n",
    "2 * 3 → 곱셈 (결과: 6)\n",
    "\n",
    "2 ^ 3 → 비트 연산 XOR (결과: 1)\n",
    "\n",
    "2 // 3 → 몫만 계산 (결과: 0)\n",
    "\n",
    "</aside>"
   ]
  },
  {
   "cell_type": "markdown",
   "metadata": {
    "id": "DzBYFn5YYbIh"
   },
   "source": [
    "----"
   ]
  },
  {
   "cell_type": "markdown",
   "metadata": {
    "id": "E5WABdRQYbIh"
   },
   "source": [
    "[문제15]<br><br>\n",
    "파이썬에서 코드를 블록 단위로 구분하는 기준은 무엇인가요?\n",
    "\n",
    "1. 줄번호\n",
    "2. 들여쓰기\n",
    "3. 괄호 {}\n",
    "4. 세미콜론 ;"
   ]
  },
  {
   "cell_type": "markdown",
   "metadata": {
    "id": "vP4ukWmTYbIh"
   },
   "source": [
    "<span style=\"color:red\">답변</span>"
   ]
  },
  {
   "cell_type": "markdown",
   "metadata": {},
   "source": [
    "<aside> 🔑 정답 : 들여쓰기\n",
    "\n",
    "<br>\n",
    "파이썬은 중괄호({}) 대신 들여쓰기(indent)를 사용해서 코드 블록을 구분합니다.\n",
    "들여쓰기를 통해 조건문, 함수, 반복문 등의 실행 범위를 결정합니다.\n",
    "\n",
    "```python\n",
    "\n",
    "if True:\n",
    "    print(\"참입니다\")  # 들여쓰기 된 부분이 블록\n",
    "else:\n",
    "    print(\"거짓입니다\")\n",
    "```\n",
    "\n",
    "줄번호, 괄호, 세미콜론은 파이썬에서 코드 블록 구분에 사용되지 않습니다.\n",
    "\n",
    "</aside>"
   ]
  },
  {
   "cell_type": "markdown",
   "metadata": {
    "id": "b_jLdxvJfjeH"
   },
   "source": [
    "----"
   ]
  },
  {
   "cell_type": "markdown",
   "metadata": {
    "id": "-3a2BnyHfjeG"
   },
   "source": [
    "<span style=\"font-size:80%\">[문제16]<br><br></span>\n",
    "```주로 작성 중인 코드의 끝을 알리는 기호로 사용되며 파이썬에서 한 줄에 작성된 서로 다른 코드를 구분 지을 때 사용할 수 있는 기호를 골라주세요```\n",
    "\n",
    "1. ' , ' (쉼표)\n",
    "2. ' + ' (더하기 기호)\n",
    "3. ' ; ' (세미콜론)\n",
    "4. ' / ' (슬래시)"
   ]
  },
  {
   "cell_type": "markdown",
   "metadata": {
    "id": "wohTOnrDfjeG"
   },
   "source": [
    "<span style=\"color:red\">답변</span> :"
   ]
  },
  {
   "cell_type": "markdown",
   "metadata": {},
   "source": [
    "<aside> 🔑 정답 : ' ; ' (세미콜론)\n",
    "<br>\n",
    "파이썬에서는 한 줄에 여러 명령을 작성할 때, 명령어 사이를 세미콜론(;*으로 구분할 수 있습니다.\n",
    "하지만 보통은 한 줄에 한 명령씩 작성하는 것이 가독성에 좋습니다.\n",
    "\n",
    "\n",
    "```python\n",
    "print(\"안녕\"); print(\"파이썬\")\n",
    "```\n",
    "쉼표(,), 더하기(+), 슬래시(/)는 이런 구분 기호로 사용되지 않습니다.\n",
    "\n",
    "</aside>"
   ]
  },
  {
   "cell_type": "markdown",
   "metadata": {
    "id": "455DtvFlfuvk"
   },
   "source": [
    "----"
   ]
  },
  {
   "cell_type": "markdown",
   "metadata": {
    "id": "vKQcdd-DbQGp"
   },
   "source": [
    "<span style=\"font-size:80%\">[문제17]<br><br></span>\n",
    "```Python의 PEP 8은 무엇인지 설명하고 PEP 8의 핵심적인 규칙을 1개 이상을 설명해주세요```"
   ]
  },
  {
   "cell_type": "markdown",
   "metadata": {
    "id": "n1YzgVZRbQGq"
   },
   "source": [
    "<span style=\"color:red\">답변</span>"
   ]
  },
  {
   "cell_type": "markdown",
   "metadata": {},
   "source": [
    "<aside>\n",
    "🔑 정답 :\n",
    "\n",
    "**EP 8은 Python Enhancement Proposal의 약자로, 파이썬 코드를 어떻게 구조화하고 형식화할 것인지에 대한 스타일 가이드입니다. 이 가이드는 파이썬 코드의 가독성을 높이고, 파이썬 개발자 간의 일관성을 유지하기 위해 만들어졌습니다.**\n",
    "\n",
    "**PEP 8의 핵심적인 규칙 중 한가지는 들여쓰기 입니다.\n",
    "들여쓰기: 들여쓰기는 공백 4개를 사용합니다. 탭 대신 공백을 사용하는 것이 권장됩니다.**\n",
    "\n",
    "그 외 핵심 규치 3가지는 아래와 같습니다.\n",
    "\n",
    "1. 라인 길이: 한 줄의 최대 길이는 79자입니다. 이는 코드를 작은 화면에서도 읽기 쉽게 하기 위한 규칙입니다.\n",
    "2. 공백: 괄호, 중괄호, 또는 대괄호를 여는 뒤, 닫기 전에는 공백을 넣지 않습니다. 쉼표, 세미콜론, 콜론을 쓴 뒤에는, 그러나 그 앞에는 공백을 넣습니다.\n",
    "3. 주석: 주석은 항상 최신 상태를 유지하고, 불필요한 주석은 피해야 합니다. 또한, 주석은 한 줄 주석과 블록 주석 모두 간결하게 작성해야 합니다.\n",
    "\n",
    "위의 규칙들은 PEP 8의 일부에 불과하며, 더 많은 규칙과 세부 사항들이 PEP 8 문서에 포함되어 있습니다. \n",
    "\n",
    "이 규칙들을 따르는 것은 파이썬 커뮤니티에서 일반적으로 기대되는 행동이지만, 특정 상황에서는 가이드라인을 일부 무시하는 것이 더 합리적일 수도 있습니다. \n",
    "\n",
    "PEP 8 자체도 이를 인정하며, \"규칙을 깨뜨리는 것이 아름답다면, 규칙을 깨뜨리세요.\"라는 가이드를 제공합니다.\n",
    "\n",
    "</aside>"
   ]
  }
 ],
 "metadata": {
  "colab": {
   "provenance": []
  },
  "language_info": {
   "name": "python"
  }
 },
 "nbformat": 4,
 "nbformat_minor": 0
}
