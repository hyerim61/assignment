{
  "cells": [
    {
      "cell_type": "markdown",
      "metadata": {
        "id": "KROTggfmi9G6"
      },
      "source": [
        "<span style=\"font-size:100%\">\n",
        "\n",
        "수업은 모두 열심히 들으셨나요?\n",
        "\n",
        "간혹 강의에서 언급되지 않은 내용이 문제로 나올 수 있습니다.<br>\n",
        "그럴땐 강의 내용 외 문제는 구글링을 통해 해결해주세요<br></span>\n",
        "<span style=\"font-size:80%\">\n",
        "(구글링 또한 개발자가 갖쳐야할 역량 중에 하나랍니다 😊)\n",
        "</span>\n",
        "\n",
        "---"
      ]
    },
    {
      "cell_type": "markdown",
      "metadata": {
        "id": "xx8M3HFvi9G7"
      },
      "source": [
        "<span style=\"font-size:80%\">[문제1]<br><br></span>\n",
        "```다음 중 14 % 3의 계산 결과로 옳은 것을 고르세요```\n",
        "\n",
        "1. 4\n",
        "2. 4.6\n",
        "3. 2\n",
        "4. 1"
      ]
    },
    {
      "cell_type": "code",
      "source": [
        "14 % 3\n",
        "# % = 두수를 나눈 나머지 값"
      ],
      "metadata": {
        "id": "VZAXRN7sDrLq",
        "outputId": "3ccd6818-1fad-428d-839a-bc2d5f52de1f",
        "colab": {
          "base_uri": "https://localhost:8080/"
        }
      },
      "execution_count": 2,
      "outputs": [
        {
          "output_type": "execute_result",
          "data": {
            "text/plain": [
              "2"
            ]
          },
          "metadata": {},
          "execution_count": 2
        }
      ]
    },
    {
      "cell_type": "markdown",
      "metadata": {
        "id": "dLwyrDvLi9G7"
      },
      "source": [
        "<span style=\"color:red\">답변</span>"
      ]
    },
    {
      "cell_type": "markdown",
      "metadata": {
        "id": "lkaX2EWHi9G7"
      },
      "source": [
        "2"
      ]
    },
    {
      "cell_type": "markdown",
      "metadata": {
        "id": "QjcV4kwAi9G8"
      },
      "source": [
        "----"
      ]
    },
    {
      "cell_type": "markdown",
      "metadata": {
        "id": "x4upTgt9i9G8"
      },
      "source": [
        "<span style=\"font-size:80%\">[문제2]<br><br></span>\n",
        "```계산식의 결과가 실수인 것을 모두 고르세요```\n",
        "\n",
        "1. float(17//3)\n",
        "2. int(10)-9\n",
        "3. float11/2\n",
        "4. float(10)-2"
      ]
    },
    {
      "cell_type": "code",
      "source": [
        "float(17//3)\n",
        "# float = 실수(소수점있음), // = 두수를 나눈 몫"
      ],
      "metadata": {
        "id": "Y_lUPDM5GiBg",
        "outputId": "df28a9f6-e926-4d06-f756-9bcab96cfbc3",
        "colab": {
          "base_uri": "https://localhost:8080/"
        }
      },
      "execution_count": 3,
      "outputs": [
        {
          "output_type": "execute_result",
          "data": {
            "text/plain": [
              "5.0"
            ]
          },
          "metadata": {},
          "execution_count": 3
        }
      ]
    },
    {
      "cell_type": "code",
      "source": [
        "int(10)-9\n",
        "# int = 정수(소수점없음)"
      ],
      "metadata": {
        "id": "tk4pXu99Gnd7",
        "outputId": "d372470d-a7a2-41f5-95a2-33091fc3276c",
        "colab": {
          "base_uri": "https://localhost:8080/"
        }
      },
      "execution_count": 4,
      "outputs": [
        {
          "output_type": "execute_result",
          "data": {
            "text/plain": [
              "1"
            ]
          },
          "metadata": {},
          "execution_count": 4
        }
      ]
    },
    {
      "cell_type": "code",
      "source": [
        "float(11/2)"
      ],
      "metadata": {
        "id": "aswUP66mGpLt",
        "outputId": "8a4d42cc-e559-4b02-cb90-f9b4006c2594",
        "colab": {
          "base_uri": "https://localhost:8080/"
        }
      },
      "execution_count": 8,
      "outputs": [
        {
          "output_type": "execute_result",
          "data": {
            "text/plain": [
              "5.5"
            ]
          },
          "metadata": {},
          "execution_count": 8
        }
      ]
    },
    {
      "cell_type": "code",
      "source": [
        "float(10)-2"
      ],
      "metadata": {
        "id": "19Y2-XWVGssU",
        "outputId": "8d4dfbda-ba88-4a7a-e9ce-08020b35e644",
        "colab": {
          "base_uri": "https://localhost:8080/"
        }
      },
      "execution_count": 6,
      "outputs": [
        {
          "output_type": "execute_result",
          "data": {
            "text/plain": [
              "8.0"
            ]
          },
          "metadata": {},
          "execution_count": 6
        }
      ]
    },
    {
      "cell_type": "markdown",
      "metadata": {
        "id": "ZWkGD_bri9G8"
      },
      "source": [
        "<span style=\"color:red\">답변</span>"
      ]
    },
    {
      "cell_type": "markdown",
      "metadata": {
        "id": "L-unMh4ui9G8"
      },
      "source": [
        "3"
      ]
    },
    {
      "cell_type": "markdown",
      "metadata": {
        "id": "gMzSY_oXbQGs"
      },
      "source": [
        "----"
      ]
    },
    {
      "cell_type": "markdown",
      "metadata": {
        "id": "UQDNTyWGbQGs"
      },
      "source": [
        "<span style=\"font-size:80%\">[문제3]<br><br></span>\n",
        "```Python에서 \"#\"이 의마하는 것은 무엇인지 설명해주세요```"
      ]
    },
    {
      "cell_type": "code",
      "source": [
        "# 어쩌구저쩌구"
      ],
      "metadata": {
        "id": "ZpNic_XXI1uA"
      },
      "execution_count": 14,
      "outputs": []
    },
    {
      "cell_type": "markdown",
      "metadata": {
        "id": "6msOT5pNbQGt"
      },
      "source": [
        "<span style=\"color:red\">답변</span>"
      ]
    },
    {
      "cell_type": "markdown",
      "metadata": {
        "id": "6hHU6PIpbQGt"
      },
      "source": [
        "주석. 그 뒤에 오는 내용은 코드로 인식되지 않고 실행되지 않는다."
      ]
    },
    {
      "cell_type": "markdown",
      "metadata": {
        "id": "xHKNiO0bgKVA"
      },
      "source": [
        "----"
      ]
    },
    {
      "cell_type": "markdown",
      "metadata": {
        "id": "KHUlSb5li9G9"
      },
      "source": [
        "[문제4]<br><br>\n",
        "거듭제곱을 올바르게 표현한 식을 골라주세요\n",
        "\n",
        "1. 2 ^^ 3\n",
        "2. 2 ** 3\n",
        "3. 2 ^* 3\n",
        "4. 2 ~~ 3"
      ]
    },
    {
      "cell_type": "code",
      "source": [
        "2 ** 3\n",
        "# 1,2,3번의 연산자들은 파이썬에 없다."
      ],
      "metadata": {
        "id": "6aFjMszwK8iB",
        "outputId": "e3cabd21-e257-4dee-f31c-ded5aa4ad59c",
        "colab": {
          "base_uri": "https://localhost:8080/"
        }
      },
      "execution_count": 13,
      "outputs": [
        {
          "output_type": "execute_result",
          "data": {
            "text/plain": [
              "8"
            ]
          },
          "metadata": {},
          "execution_count": 13
        }
      ]
    },
    {
      "cell_type": "markdown",
      "metadata": {
        "id": "V3pewPtDi9G9"
      },
      "source": [
        "<span style=\"color:red\">답변</span>"
      ]
    },
    {
      "cell_type": "markdown",
      "metadata": {
        "id": "Gu5Krasyi9G9"
      },
      "source": [
        "2"
      ]
    },
    {
      "cell_type": "markdown",
      "metadata": {
        "id": "EuP_qXC0i9G-"
      },
      "source": [
        "----"
      ]
    },
    {
      "cell_type": "markdown",
      "metadata": {
        "id": "z1RkivHXi9G-"
      },
      "source": [
        "[문제5]<br><br>\n",
        "몫과 나머지를 함께 구하기 위해 사용할 수 있는 표현을 골라주세요\n",
        "\n",
        "1. //\n",
        "2. divmod()\n",
        "3. %\n",
        "4. /"
      ]
    },
    {
      "cell_type": "code",
      "source": [
        "12 // 7\n",
        "# 두 수를 나눈 몫"
      ],
      "metadata": {
        "id": "RK20WiyLLcyC",
        "outputId": "8e00b939-8e43-43d8-e633-21bcc25d960d",
        "colab": {
          "base_uri": "https://localhost:8080/"
        }
      },
      "execution_count": 15,
      "outputs": [
        {
          "output_type": "execute_result",
          "data": {
            "text/plain": [
              "1"
            ]
          },
          "metadata": {},
          "execution_count": 15
        }
      ]
    },
    {
      "cell_type": "code",
      "source": [
        "divmod(12, 7)\n",
        "# 몱, 나머지"
      ],
      "metadata": {
        "id": "1F7m0rD-Lket",
        "outputId": "782aa46d-3a65-481d-8aff-c964a68d5040",
        "colab": {
          "base_uri": "https://localhost:8080/"
        }
      },
      "execution_count": 16,
      "outputs": [
        {
          "output_type": "execute_result",
          "data": {
            "text/plain": [
              "(1, 5)"
            ]
          },
          "metadata": {},
          "execution_count": 16
        }
      ]
    },
    {
      "cell_type": "code",
      "source": [
        "12 % 7\n",
        "# 나머지"
      ],
      "metadata": {
        "id": "2cyjPdtZLrYH",
        "outputId": "7873cdb1-de32-469d-89ea-af8e69770a9a",
        "colab": {
          "base_uri": "https://localhost:8080/"
        }
      },
      "execution_count": 17,
      "outputs": [
        {
          "output_type": "execute_result",
          "data": {
            "text/plain": [
              "5"
            ]
          },
          "metadata": {},
          "execution_count": 17
        }
      ]
    },
    {
      "cell_type": "code",
      "source": [
        "12 / 7\n",
        "# 정수"
      ],
      "metadata": {
        "id": "Pa92ric0LwCP",
        "outputId": "5e9a1c49-3da1-4d7e-ff68-c728d2e91122",
        "colab": {
          "base_uri": "https://localhost:8080/"
        }
      },
      "execution_count": 18,
      "outputs": [
        {
          "output_type": "execute_result",
          "data": {
            "text/plain": [
              "1.7142857142857142"
            ]
          },
          "metadata": {},
          "execution_count": 18
        }
      ]
    },
    {
      "cell_type": "markdown",
      "metadata": {
        "id": "DP88gMUoi9G-"
      },
      "source": [
        "<span style=\"color:red\">답변</span>"
      ]
    },
    {
      "cell_type": "markdown",
      "metadata": {
        "id": "FzxA9v7Ui9G-"
      },
      "source": [
        "2"
      ]
    },
    {
      "cell_type": "markdown",
      "metadata": {
        "id": "Z0UpmMm4YZnG"
      },
      "source": [
        "----"
      ]
    },
    {
      "cell_type": "markdown",
      "metadata": {
        "id": "XeLb5lMmYZnH"
      },
      "source": [
        "[문제6]<br><br>\n",
        "파이썬에서 한 줄 주석을 표현하는 방법은 무엇인가요?\n",
        "\n",
        "1. `//`\n",
        "2. `<!-- -- >`\n",
        "3. `#`\n",
        "4. `/* */`"
      ]
    },
    {
      "cell_type": "markdown",
      "metadata": {
        "id": "GgXXqnqEYZnI"
      },
      "source": [
        "<span style=\"color:red\">답변</span>"
      ]
    },
    {
      "cell_type": "markdown",
      "metadata": {
        "id": "zdWAwwvNYZnI"
      },
      "source": [
        "3"
      ]
    },
    {
      "cell_type": "markdown",
      "metadata": {
        "id": "Yh95yxZsYZ-8"
      },
      "source": [
        "----"
      ]
    },
    {
      "cell_type": "markdown",
      "metadata": {
        "id": "y4qg-sGlYZ-9"
      },
      "source": [
        "[문제7]<br><br>\n",
        "다음 중 여러 줄 주석처럼 사용할 수 있는 표현은?\n",
        "\n",
        "1. `# 주석1 \\n # 주석2`\n",
        "2. `/* 주석 */`\n",
        "3. `\"\"\" 여러 줄 \"\"\"`\n",
        "4. `// 여러 줄`"
      ]
    },
    {
      "cell_type": "markdown",
      "metadata": {
        "id": "sK4zXr3fYZ-9"
      },
      "source": [
        "<span style=\"color:red\">답변</span>"
      ]
    },
    {
      "cell_type": "markdown",
      "metadata": {
        "id": "v_i7PC_JYZ-9"
      },
      "source": [
        "3"
      ]
    },
    {
      "cell_type": "code",
      "source": [
        "# 큰따옴표 3개 또는 작은따옴표 3개는 함수나 클래스 안에서 사용시에 여러 줄 주석으로 사용된다."
      ],
      "metadata": {
        "id": "gYaomVWTQfjU"
      },
      "execution_count": 30,
      "outputs": []
    },
    {
      "cell_type": "markdown",
      "metadata": {
        "id": "t2uhmA8gYaM0"
      },
      "source": [
        "----"
      ]
    },
    {
      "cell_type": "markdown",
      "metadata": {
        "id": "xiFkZx8DYaM1"
      },
      "source": [
        "[문제8]<br><br>\n",
        "다음 중 print 함수의 올바른 사용 예는?\n",
        "\n",
        "1. `print \"Hello\"`\n",
        "2. `print(Hello)`\n",
        "3. `print(\"Hello\")`\n",
        "4. `print{'Hello'}`"
      ]
    },
    {
      "cell_type": "markdown",
      "metadata": {
        "id": "Bp36EWWyYaM1"
      },
      "source": [
        "<span style=\"color:red\">답변</span>"
      ]
    },
    {
      "cell_type": "markdown",
      "metadata": {
        "id": "3TfdSISdYaM1"
      },
      "source": [
        "3"
      ]
    },
    {
      "cell_type": "code",
      "source": [
        "# print는 함수이므로 ()안에 출력할 내용을 넣어야 한다. 파이썬은 문자열을 출력할 때에는 \"\" 나 ''를 사용해야 한다."
      ],
      "metadata": {
        "id": "8fukhl_VQl_I"
      },
      "execution_count": 32,
      "outputs": []
    },
    {
      "cell_type": "markdown",
      "metadata": {
        "id": "JYpYKk2eYaWD"
      },
      "source": [
        "----"
      ]
    },
    {
      "cell_type": "markdown",
      "metadata": {
        "id": "BGETnyW1YaWD"
      },
      "source": [
        "[문제9]<br><br>\n",
        "파이썬에서 들여쓰기(indentation)가 필요한 문법이 아닌 것은?\n",
        "\n",
        "1. if 조건문\n",
        "2. 함수 정의\n",
        "3. 반복문\n",
        "4. 변수 선언"
      ]
    },
    {
      "cell_type": "markdown",
      "metadata": {
        "id": "WWhthnFBYaWD"
      },
      "source": [
        "<span style=\"color:red\">답변</span>"
      ]
    },
    {
      "cell_type": "markdown",
      "metadata": {
        "id": "eVsT_gdkYaWE"
      },
      "source": [
        "4"
      ]
    },
    {
      "cell_type": "markdown",
      "metadata": {
        "id": "PJC33msFYafF"
      },
      "source": [
        "----"
      ]
    },
    {
      "cell_type": "markdown",
      "metadata": {
        "id": "F3aZ8_leYafG"
      },
      "source": [
        "[문제10]<br><br>\n",
        "다음 중 연산 결과가 정수(`int`)가 아닌 것은?\n",
        "\n",
        "1. `10 // 3`\n",
        "2. `int(5.7)`\n",
        "3. `float(3)`\n",
        "4. `7 % 2`"
      ]
    },
    {
      "cell_type": "code",
      "source": [
        "10 // 3"
      ],
      "metadata": {
        "id": "e4ycIRYgRrPV",
        "outputId": "5237c904-78bf-4625-9a4c-1098f9c8c2f4",
        "colab": {
          "base_uri": "https://localhost:8080/"
        }
      },
      "execution_count": 33,
      "outputs": [
        {
          "output_type": "execute_result",
          "data": {
            "text/plain": [
              "3"
            ]
          },
          "metadata": {},
          "execution_count": 33
        }
      ]
    },
    {
      "cell_type": "code",
      "source": [
        "int(5.7)"
      ],
      "metadata": {
        "id": "KglMzKxYRsIu",
        "outputId": "7023f29a-46ca-4806-ea03-1cbbb110c220",
        "colab": {
          "base_uri": "https://localhost:8080/"
        }
      },
      "execution_count": 34,
      "outputs": [
        {
          "output_type": "execute_result",
          "data": {
            "text/plain": [
              "5"
            ]
          },
          "metadata": {},
          "execution_count": 34
        }
      ]
    },
    {
      "cell_type": "code",
      "source": [
        "float(3)"
      ],
      "metadata": {
        "id": "7USExFUgRtuD",
        "outputId": "2ec6ff28-056a-4434-905c-585dd1d08e0f",
        "colab": {
          "base_uri": "https://localhost:8080/"
        }
      },
      "execution_count": 35,
      "outputs": [
        {
          "output_type": "execute_result",
          "data": {
            "text/plain": [
              "3.0"
            ]
          },
          "metadata": {},
          "execution_count": 35
        }
      ]
    },
    {
      "cell_type": "code",
      "source": [
        "7 % 2"
      ],
      "metadata": {
        "id": "LvXKOpMRRvHS",
        "outputId": "92d0e2bd-104d-4d5b-c76c-7fc8438295b2",
        "colab": {
          "base_uri": "https://localhost:8080/"
        }
      },
      "execution_count": 36,
      "outputs": [
        {
          "output_type": "execute_result",
          "data": {
            "text/plain": [
              "1"
            ]
          },
          "metadata": {},
          "execution_count": 36
        }
      ]
    },
    {
      "cell_type": "markdown",
      "metadata": {
        "id": "RCZ-BYRlYafG"
      },
      "source": [
        "<span style=\"color:red\">답변</span>"
      ]
    },
    {
      "cell_type": "markdown",
      "metadata": {
        "id": "tcFyg7fVYafG"
      },
      "source": [
        "3"
      ]
    },
    {
      "cell_type": "markdown",
      "metadata": {
        "id": "hYccJ2UJYanq"
      },
      "source": [
        "----"
      ]
    },
    {
      "cell_type": "markdown",
      "metadata": {
        "id": "lDhPMH5MYanr"
      },
      "source": [
        "[문제11]<br><br>\n",
        "다음 중 출력 결과가 1.5가 되는 코드를 고르세요.\n",
        "\n",
        "1. `print(3 // 2)`\n",
        "2. `print(3 / 2)`\n",
        "3. `print(3 % 2)`\n",
        "4. `print(int(3 / 2))`"
      ]
    },
    {
      "cell_type": "code",
      "source": [
        "print(3 // 2)"
      ],
      "metadata": {
        "id": "WBk8gNhCR-vN",
        "outputId": "bd0fe910-90f1-41a7-c82e-18a06e7cab1b",
        "colab": {
          "base_uri": "https://localhost:8080/"
        }
      },
      "execution_count": 37,
      "outputs": [
        {
          "output_type": "stream",
          "name": "stdout",
          "text": [
            "1\n"
          ]
        }
      ]
    },
    {
      "cell_type": "code",
      "source": [
        "print(3 / 2)"
      ],
      "metadata": {
        "id": "sZeHbCrxR_Wc",
        "outputId": "8c1e5401-1e39-4ed1-942e-e10943962210",
        "colab": {
          "base_uri": "https://localhost:8080/"
        }
      },
      "execution_count": 38,
      "outputs": [
        {
          "output_type": "stream",
          "name": "stdout",
          "text": [
            "1.5\n"
          ]
        }
      ]
    },
    {
      "cell_type": "code",
      "source": [
        "print(3 % 2)"
      ],
      "metadata": {
        "id": "mXQ_QoCBSA7-",
        "outputId": "2c79219f-2632-4445-b6e6-1c0d7ca4acc5",
        "colab": {
          "base_uri": "https://localhost:8080/"
        }
      },
      "execution_count": 39,
      "outputs": [
        {
          "output_type": "stream",
          "name": "stdout",
          "text": [
            "1\n"
          ]
        }
      ]
    },
    {
      "cell_type": "code",
      "source": [
        "print(int(3 / 2))"
      ],
      "metadata": {
        "id": "0LHgThPzSCk7",
        "outputId": "1dfe61af-5495-4135-a3f8-fd12509edc16",
        "colab": {
          "base_uri": "https://localhost:8080/"
        }
      },
      "execution_count": 40,
      "outputs": [
        {
          "output_type": "stream",
          "name": "stdout",
          "text": [
            "1\n"
          ]
        }
      ]
    },
    {
      "cell_type": "markdown",
      "metadata": {
        "id": "Dzr_NF42Yanr"
      },
      "source": [
        "<span style=\"color:red\">답변</span>"
      ]
    },
    {
      "cell_type": "markdown",
      "metadata": {
        "id": "s32RLmg2Yanr"
      },
      "source": [
        "2"
      ]
    },
    {
      "cell_type": "markdown",
      "metadata": {
        "id": "Ttlm48mhYawj"
      },
      "source": [
        "----"
      ]
    },
    {
      "cell_type": "markdown",
      "metadata": {
        "id": "0iRS1iSJYawk"
      },
      "source": [
        "[문제12]<br><br>\n",
        "다음 중 올바르게 float 형으로 변환한 예는?\n",
        "\n",
        "1. float(7)\n",
        "2. float(\"3.14\")\n",
        "3. float(\"abc\")\n",
        "4. float(3+2)"
      ]
    },
    {
      "cell_type": "markdown",
      "metadata": {
        "id": "niYKuCuoYawk"
      },
      "source": [
        "<span style=\"color:red\">답변</span>"
      ]
    },
    {
      "cell_type": "markdown",
      "metadata": {
        "id": "18Im2mjXYawk"
      },
      "source": [
        "3"
      ]
    },
    {
      "cell_type": "code",
      "source": [
        "# 숫자가 아닌 문자열은 변환할 수 없다."
      ],
      "metadata": {
        "id": "5ipNl4wgSio6"
      },
      "execution_count": null,
      "outputs": []
    },
    {
      "cell_type": "markdown",
      "metadata": {
        "id": "jij7086vYa4j"
      },
      "source": [
        "----"
      ]
    },
    {
      "cell_type": "markdown",
      "metadata": {
        "id": "sTJO_IoVYa4k"
      },
      "source": [
        "[문제13]<br><br>\n",
        "divmod(17, 4)의 반환값은?\n",
        "\n",
        "1. (4, 1)\n",
        "2. (4, 2)\n",
        "3. 4.25\n",
        "4. 1"
      ]
    },
    {
      "cell_type": "code",
      "source": [
        "divmod(17, 4)"
      ],
      "metadata": {
        "id": "5pCCC2VCSqzx",
        "outputId": "bf78f480-610f-4a4b-a1eb-771108fe39a6",
        "colab": {
          "base_uri": "https://localhost:8080/"
        }
      },
      "execution_count": 43,
      "outputs": [
        {
          "output_type": "execute_result",
          "data": {
            "text/plain": [
              "(4, 1)"
            ]
          },
          "metadata": {},
          "execution_count": 43
        }
      ]
    },
    {
      "cell_type": "markdown",
      "metadata": {
        "id": "PZM6DtFpYa4k"
      },
      "source": [
        "<span style=\"color:red\">답변</span>"
      ]
    },
    {
      "cell_type": "markdown",
      "metadata": {
        "id": "xbjgK_QIYa4k"
      },
      "source": [
        "1"
      ]
    },
    {
      "cell_type": "markdown",
      "metadata": {
        "id": "TqIU3JDvYbAj"
      },
      "source": [
        "----"
      ]
    },
    {
      "cell_type": "markdown",
      "metadata": {
        "id": "flEcl053YbAk"
      },
      "source": [
        "[문제14]<br><br>\n",
        "다음 중 pow(2, 3)과 같은 결과를 내는 식은?\n",
        "\n",
        "1. 2 * 3\n",
        "2. 2 ** 3\n",
        "3. 2 ^ 3\n",
        "4. 2 // 3"
      ]
    },
    {
      "cell_type": "code",
      "source": [
        "pow(2, 3)"
      ],
      "metadata": {
        "id": "XboqKuKnSuvN",
        "outputId": "291f2679-b46e-4282-f1c9-d5f8a2a6a153",
        "colab": {
          "base_uri": "https://localhost:8080/"
        }
      },
      "execution_count": 44,
      "outputs": [
        {
          "output_type": "execute_result",
          "data": {
            "text/plain": [
              "8"
            ]
          },
          "metadata": {},
          "execution_count": 44
        }
      ]
    },
    {
      "cell_type": "markdown",
      "metadata": {
        "id": "SpAF3ObCYbAk"
      },
      "source": [
        "<span style=\"color:red\">답변</span>"
      ]
    },
    {
      "cell_type": "markdown",
      "metadata": {
        "id": "3loK8BDWYbAk"
      },
      "source": [
        "3"
      ]
    },
    {
      "cell_type": "markdown",
      "metadata": {
        "id": "DzBYFn5YYbIh"
      },
      "source": [
        "----"
      ]
    },
    {
      "cell_type": "markdown",
      "metadata": {
        "id": "E5WABdRQYbIh"
      },
      "source": [
        "[문제15]<br><br>\n",
        "파이썬에서 코드를 블록 단위로 구분하는 기준은 무엇인가요?\n",
        "\n",
        "1. 줄번호\n",
        "2. 들여쓰기\n",
        "3. 괄호 {}\n",
        "4. 세미콜론 ;"
      ]
    },
    {
      "cell_type": "markdown",
      "metadata": {
        "id": "vP4ukWmTYbIh"
      },
      "source": [
        "<span style=\"color:red\">답변</span>"
      ]
    },
    {
      "cell_type": "markdown",
      "metadata": {
        "id": "jk6zcxKnYbIh"
      },
      "source": [
        "2"
      ]
    },
    {
      "cell_type": "code",
      "source": [
        "# 들여쓰기()"
      ],
      "metadata": {
        "id": "A4An0kSSTsFG"
      },
      "execution_count": null,
      "outputs": []
    },
    {
      "cell_type": "markdown",
      "metadata": {
        "id": "b_jLdxvJfjeH"
      },
      "source": [
        "----"
      ]
    },
    {
      "cell_type": "markdown",
      "metadata": {
        "id": "-3a2BnyHfjeG"
      },
      "source": [
        "<span style=\"font-size:80%\">[문제16]<br><br></span>\n",
        "```주로 작성 중인 코드의 끝을 알리는 기호로 사용되며 파이썬에서 한 줄에 작성된 서로 다른 코드를 구분 지을 때 사용할 수 있는 기호를 골라주세요```\n",
        "\n",
        "1. ' , ' (쉼표)\n",
        "2. ' + ' (더하기 기호)\n",
        "3. ' ; ' (세미콜론)\n",
        "4. ' / ' (슬래시)"
      ]
    },
    {
      "cell_type": "markdown",
      "metadata": {
        "id": "wohTOnrDfjeG"
      },
      "source": [
        "<span style=\"color:red\">답변</span> :"
      ]
    },
    {
      "cell_type": "markdown",
      "metadata": {
        "id": "cFnd7C6KfjeH"
      },
      "source": [
        "3"
      ]
    },
    {
      "cell_type": "code",
      "source": [
        "# 쉼표 = 여러값 나열\n",
        "# 더하기 기호 = 덧셈 또는 문자열 결합\n",
        "# 세미콜론 = 명령어 구분\n",
        "# 슬래시 = 나눗셈"
      ],
      "metadata": {
        "id": "WcfT0253T8zg"
      },
      "execution_count": 46,
      "outputs": []
    },
    {
      "cell_type": "markdown",
      "metadata": {
        "id": "455DtvFlfuvk"
      },
      "source": [
        "----"
      ]
    },
    {
      "cell_type": "markdown",
      "metadata": {
        "id": "vKQcdd-DbQGp"
      },
      "source": [
        "<span style=\"font-size:80%\">[문제17]<br><br></span>\n",
        "```Python의 PEP 8은 무엇인지 설명하고 PEP 8의 핵심적인 규칙을 1개 이상을 설명해주세요```"
      ]
    },
    {
      "cell_type": "markdown",
      "metadata": {
        "id": "n1YzgVZRbQGq"
      },
      "source": [
        "<span style=\"color:red\">답변</span>"
      ]
    },
    {
      "cell_type": "markdown",
      "metadata": {
        "id": "nMC0oY7ybQGr"
      },
      "source": [
        "EP 8은 Python Enhancement Proposal의 약자로, 파이썬 코드 스타일 가이드이다. 파이썬 코드를 작성할 때 가독성과 일관성을 높이기 위해 정해진 표준 규칙 모음이다.\n",
        "\n",
        "PEP 8의 핵심적인 규칙\n",
        "1. 들여쓰기 : 공백 4칸 사용 (탭 X)\n",
        "2. 줄 길이 : 한 줄은 79자 이하 권장\n",
        "3. 공백 : 연산자, 쉼표 주변엔 한 칸 띄기\n",
        "4. 함수 & 변수 명 : 소문자 + 밑줄(snake_case)\n",
        "5. 클래스 명 : 대문자로 시작\n",
        "6. 주석 : 코드의 의미를 명확히, 최신 상태 유지\n",
        "7. 문자열 따옴표 : \"\" ''중 하나만 일괄되게 사용\n",
        "8. 공백 줄 : 함수나 클래스 사이엔 빈 줄 2개"
      ]
    }
  ],
  "metadata": {
    "colab": {
      "provenance": []
    },
    "language_info": {
      "name": "python"
    },
    "kernelspec": {
      "name": "python3",
      "display_name": "Python 3"
    }
  },
  "nbformat": 4,
  "nbformat_minor": 0
}